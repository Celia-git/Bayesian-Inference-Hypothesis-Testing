{
 "cells": [
  {
   "cell_type": "markdown",
   "metadata": {
    "colab_type": "text",
    "id": "view-in-github"
   },
   "source": [
    "<a href=\"https://colab.research.google.com/github/Celia-git/4220_Homework/blob/main/Copy_of_hw2.ipynb\" target=\"_parent\"><img src=\"https://colab.research.google.com/assets/colab-badge.svg\" alt=\"Open In Colab\"/></a>"
   ]
  },
  {
   "cell_type": "markdown",
   "metadata": {
    "id": "VP1Fxm8meMHN"
   },
   "source": [
    "# Homework 2\n",
    "\n",
    "This homework is intended to give you experience with hypothesis testing, using random chance to establish an empirical distribution, theoretical probability, and using Bayesian inference.\n",
    "\n",
    "When you have completed the assignment, download only the ipynb file and submit it to Ilearn.\n",
    "\n",
    "**This HW is due Friday, February 21 at 11:59 PM.**"
   ]
  },
  {
   "cell_type": "markdown",
   "metadata": {
    "id": "9ZOYDjT_eMHP"
   },
   "source": [
    "## Collaboration Policy\n",
    "\n",
    "Data science is a collaborative activity. While you may talk with others about the labs, we ask that you **write your solutions individually**. If you do discuss the assignments with others please **include their names** below. (That's a good way to learn your classmates' names.)"
   ]
  },
  {
   "cell_type": "markdown",
   "metadata": {
    "id": "ZzTlnLXoQB94"
   },
   "source": [
    "**Parker Lovin Danny Vela Hernandez**"
   ]
  },
  {
   "cell_type": "markdown",
   "metadata": {
    "id": "61lO4HMqNAp9"
   },
   "source": [
    "**Q5 is completed with the file Deflategate.csv, included in my submission.  Import Deflategate.csv to see the outputs to Q5**"
   ]
  },
  {
   "cell_type": "code",
   "execution_count": 71,
   "metadata": {
    "id": "UbympTJCfqkW"
   },
   "outputs": [],
   "source": [
    "import numpy as np\n",
    "import pandas as pd\n",
    "import random\n",
    "import matplotlib.pyplot as plt\n",
    "import math\n",
    "import scipy"
   ]
  },
  {
   "cell_type": "markdown",
   "metadata": {
    "id": "osG-UfQeenLx"
   },
   "source": [
    "## Install Packages\n",
    "\n",
    "Even if you have installed all packages needed, RUN THIS CELL! On google colab, it downloads the test files, and whether on colab or to give you automated feedback!\n",
    "\n",
    "If you complete the homework in a local IDE, you will need to download the files hw2.ok and ok_tests.zip.\n",
    "\n",
    "Before packages can be imported in python they must be installed. In the next cell the packages that this homework requires are installed. After the installation, you may need to restart the environment to ensure that the imports function. Once they are installed, the restart is not necessary."
   ]
  },
  {
   "cell_type": "code",
   "execution_count": 72,
   "metadata": {
    "colab": {
     "base_uri": "https://localhost:8080/"
    },
    "id": "ErbT-G0qekBa",
    "outputId": "a5d27180-8a95-42a1-94a4-25e935c2c157"
   },
   "outputs": [
    {
     "name": "stdout",
     "output_type": "stream",
     "text": [
      "Libraries successfully installed\n"
     ]
    }
   ],
   "source": [
    "from pathlib import Path\n",
    "import sys\n",
    "import gdown\n",
    "\n",
    "ok_file = \"hw2.ok\"\n",
    "\n",
    "code_ok = \"15HYBnY2MplvV3Z0rz9wSJFug5nualvy6\"\n",
    "code_tests = \"1kwJZ2Vw5eJApS1Y-jYr3iQZ0d0koWY5i\"\n",
    "\n",
    "hw_ok_link = f\"https://drive.google.com/uc?id=\" + code_ok\n",
    "ok_tests_link = \"https://drive.google.com/uc?id=\" + code_tests\n",
    "\n",
    "# Download necessary files for autograding\n",
    "# This only works on google drive.\n",
    "if 'google.colab' in sys.modules:\n",
    "  import google.colab.output\n",
    "  gdown.download(hw_ok_link)\n",
    "  gdown.download(ok_tests_link)\n",
    "\n",
    "# If the ok_tests.zip file is present - decompress it\n",
    "file_path = Path(\"ok_tests.zip\")\n",
    "if file_path.exists():\n",
    "  !unzip -o ok_tests.zip\n",
    "\n",
    "# download necessary libraries\n",
    "pip_output = !pip3 install okpy numpy matplotlib pandas datascience\n",
    "\n",
    "# This makes any errors and output less horrible\n",
    "err_lines = [ln for ln in pip_output if 'error' in ln.lower()]\n",
    "\n",
    "# If this is google colab - make the output look nice\n",
    "if 'google.colab' in sys.modules:\n",
    "  google.colab.output.clear()\n",
    "\n",
    "if err_lines:\n",
    "  print(*err_lines, sep='\\n')\n",
    "else:\n",
    "  print('Libraries successfully installed')\n",
    "\n",
    "# Verify the necessary grader files are present\n",
    "file_path = Path(\"ok_tests\")\n",
    "if not file_path.exists():\n",
    "  print(\"No test cases found. Please download ok_tests.zip and unzip into this directory\")\n",
    "  print(\"The ok tests file is available at: \", \"https://drive.google.com/file/d/\"+code_tests+\"/view?usp=share_link\")\n",
    "\n",
    "file_path = Path(ok_file)\n",
    "if not file_path.exists():\n",
    "  print(\"No grader file found. Please download hwX.ok\")\n",
    "  print(\"ok file is available at: \", \"https://drive.google.com/file/d/\"+code_ok+\"/view?usp=share_link\")"
   ]
  },
  {
   "cell_type": "code",
   "execution_count": 106,
   "metadata": {
    "colab": {
     "base_uri": "https://localhost:8080/"
    },
    "id": "_es2IHe2fHqe",
    "outputId": "0522e39c-6d3c-479d-cef3-05c4e9b8385d"
   },
   "outputs": [
    {
     "name": "stdout",
     "output_type": "stream",
     "text": [
      "=====================================================================\n",
      "Assignment: Homework 2\n",
      "OK, version v1.18.1\n",
      "=====================================================================\n",
      "\n"
     ]
    }
   ],
   "source": [
    "from client.api.notebook import Notebook\n",
    "import matplotlib.pyplot as plt\n",
    "plt.style.use('fivethirtyeight')\n",
    "import numpy as np\n",
    "import pandas as pd\n",
    "\n",
    "ok = Notebook(ok_file)"
   ]
  },
  {
   "cell_type": "markdown",
   "metadata": {
    "id": "5EZVGuFIfhCw"
   },
   "source": [
    "# Q1\n",
    "\n",
    "Thomas Bayes introduced the infamous Bayes rule. When Bayes would explain the rule, he often used a game to show the utility of his discovery.\n",
    "\n",
    "With his back turned, he would ask someone to mark a spot on a table. He would never look, but instead he would have people throw a ball and then they would tell him if the ball landed to the right of the mark or to the left. He would continue this for a number of rounds.\n",
    "\n",
    "Based on this alone, Bayes would work out the location of the mark on the table by the end of the game! We will do the exact same thing in code to further develop an understanding of Bayes rule.  \n",
    "\n",
    "## Q1a\n",
    "\n",
    "Fill in the get_position() function to return a random number with uniform distribution between 0 and 10.\n",
    "\n",
    "Fill in the to_the_right() function to return true if new_position is greater than the first_position."
   ]
  },
  {
   "cell_type": "code",
   "execution_count": 74,
   "metadata": {
    "id": "HNX3dU6uVuFI"
   },
   "outputs": [],
   "source": [
    "def get_position():\n",
    "  return random.uniform(0, 10)\n",
    "\n",
    "def to_the_right(first_position, new_position):\n",
    "  return new_position > first_position\n",
    "\n",
    "random.seed(42)\n",
    "first_position = get_position()"
   ]
  },
  {
   "cell_type": "code",
   "execution_count": 75,
   "metadata": {
    "colab": {
     "base_uri": "https://localhost:8080/"
    },
    "id": "AzNjLnCxsavJ",
    "outputId": "e5e060ee-a60f-4ec3-f3c4-797bad39778a"
   },
   "outputs": [
    {
     "name": "stdout",
     "output_type": "stream",
     "text": [
      "~~~~~~~~~~~~~~~~~~~~~~~~~~~~~~~~~~~~~~~~~~~~~~~~~~~~~~~~~~~~~~~~~~~~~\n",
      "Running tests\n",
      "\n",
      "---------------------------------------------------------------------\n",
      "Test summary\n",
      "    Passed: 3\n",
      "    Failed: 0\n",
      "[ooooooooook] 100.0% passed\n",
      "\n"
     ]
    }
   ],
   "source": [
    "ok.grade(\"q1a\");"
   ]
  },
  {
   "cell_type": "markdown",
   "metadata": {
    "id": "3wLRiUMvr-cN"
   },
   "source": [
    "## Q1b\n",
    "\n",
    "Create a column in candidate_positions called 'p_true_given_pos'. In this column, store the probability that a ball is thrown with uniform probability at a wall and strikes to the right of the position if the index is understood to be the position. ie. row zero is position zero and should have probability equal to 1."
   ]
  },
  {
   "cell_type": "code",
   "execution_count": 76,
   "metadata": {
    "id": "pIx9jUKtgpdZ"
   },
   "outputs": [],
   "source": [
    "def get_bayes_df():\n",
    "  candidate_positions = pd.DataFrame([1/10 for num in range(1,11)],columns=['probability'])\n",
    "  candidate_positions['p_true_given_pos'] = [(10-i)/10 for i in range(10)]\n",
    "  return candidate_positions\n",
    "\n",
    "\n",
    "candidate_positions = get_bayes_df()"
   ]
  },
  {
   "cell_type": "code",
   "execution_count": 77,
   "metadata": {
    "colab": {
     "base_uri": "https://localhost:8080/"
    },
    "id": "apAG0bsSgNqW",
    "outputId": "003f5eaa-80c2-4937-f642-56e54ecf8192"
   },
   "outputs": [
    {
     "name": "stdout",
     "output_type": "stream",
     "text": [
      "~~~~~~~~~~~~~~~~~~~~~~~~~~~~~~~~~~~~~~~~~~~~~~~~~~~~~~~~~~~~~~~~~~~~~\n",
      "Running tests\n",
      "\n",
      "---------------------------------------------------------------------\n",
      "Test summary\n",
      "    Passed: 1\n",
      "    Failed: 0\n",
      "[ooooooooook] 100.0% passed\n",
      "\n"
     ]
    }
   ],
   "source": [
    "ok.grade(\"q1b\");"
   ]
  },
  {
   "cell_type": "markdown",
   "metadata": {
    "id": "gYWfF1h4t4yX"
   },
   "source": [
    "## Q1c\n",
    "\n",
    "Update the belief (called probability) using Bayes rule.\n",
    "\n",
    "First, you will need to compute the expected probability of a ball striking the wall to the right of a location given the current probabilities for each location. This should be stored in expected_p_true. The complement should be stored in expected_p_false.\n",
    "\n",
    "Next, update the probability associated with each position with the new probabilities based on whether each new observation is to the right (true) or to the left (false) of the first position using Bayes rule. Below are a few restatements of Bayes rule that may be helpful. I recommend using vectorized math by using the columns as operands to do this concisely.\n",
    "\n",
    "\n",
    "$P(A|B) = P(A) \\cdot \\frac{P(B|A)}{P(B)}$\n",
    "\n",
    "$posterior = prior \\cdot \\frac{P(observation|prior)}{P(observation)}$\n",
    "\n",
    "$P_{new} = P_{current} \\cdot \\frac{P(observation|P_{current})}{P(observation)}$\n",
    "\n",
    "Experiment with the number of iterations (by passing in a keyword argument to Bayes_game) used to find a number that allows the probability to converge. Update, required_iterations with the value that you find sufficient for the probabilities to converge and enable correct inference.\n",
    "\n"
   ]
  },
  {
   "cell_type": "code",
   "execution_count": 78,
   "metadata": {
    "id": "XfD7h76bh91U"
   },
   "outputs": [],
   "source": [
    "def Bayes_game(iterations=20, candidate_positions=candidate_positions):\n",
    "\n",
    "  successes = []\n",
    "  failures = []\n",
    "\n",
    "  for i in range(iterations):\n",
    "    new_position = get_position()\n",
    "    expected_p_true = sum(candidate_positions[\"probability\"] * candidate_positions[\"p_true_given_pos\"])\n",
    "    expected_p_false = 1 - expected_p_true\n",
    "\n",
    "    if to_the_right(first_position, new_position):\n",
    "      candidate_positions['probability'] = (candidate_positions[\"probability\"] * candidate_positions[\"p_true_given_pos\"])/expected_p_true\n",
    "      successes.append(new_position)\n",
    "\n",
    "    else:\n",
    "      candidate_positions['probability'] = (candidate_positions[\"probability\"] * (1- candidate_positions['p_true_given_pos']))/expected_p_false\n",
    "      failures.append(new_position)\n",
    "\n",
    "  return candidate_positions, successes, failures\n",
    "\n",
    "candidate_positions, successes, failures = Bayes_game()\n",
    "\n",
    "required_iterations = Bayes_game(500)"
   ]
  },
  {
   "cell_type": "code",
   "execution_count": 79,
   "metadata": {
    "colab": {
     "base_uri": "https://localhost:8080/",
     "height": 789
    },
    "id": "i9UINwSYlf1t",
    "outputId": "80ef1e40-a536-4f68-cb73-c3c51ba6f0f9"
   },
   "outputs": [
    {
     "data": {
      "application/vnd.google.colaboratory.intrinsic+json": {
       "summary": "{\n  \"name\": \"candidate_positions\",\n  \"rows\": 10,\n  \"fields\": [\n    {\n      \"column\": \"probability\",\n      \"properties\": {\n        \"dtype\": \"number\",\n        \"std\": 0.24326125025199616,\n        \"min\": 0.0,\n        \"max\": 0.757472642708413,\n        \"num_unique_values\": 10,\n        \"samples\": [\n          2.946206955394872e-14,\n          1.6677469528738605e-197,\n          1.2761762961489057e-09\n        ],\n        \"semantic_type\": \"\",\n        \"description\": \"\"\n      }\n    },\n    {\n      \"column\": \"p_true_given_pos\",\n      \"properties\": {\n        \"dtype\": \"number\",\n        \"std\": 0.3027650354097492,\n        \"min\": 0.1,\n        \"max\": 1.0,\n        \"num_unique_values\": 10,\n        \"samples\": [\n          0.2,\n          0.9,\n          0.5\n        ],\n        \"semantic_type\": \"\",\n        \"description\": \"\"\n      }\n    }\n  ]\n}",
       "type": "dataframe",
       "variable_name": "candidate_positions"
      },
      "text/html": [
       "\n",
       "  <div id=\"df-834057b0-dee2-4441-8af5-c7396445c4b4\" class=\"colab-df-container\">\n",
       "    <div>\n",
       "<style scoped>\n",
       "    .dataframe tbody tr th:only-of-type {\n",
       "        vertical-align: middle;\n",
       "    }\n",
       "\n",
       "    .dataframe tbody tr th {\n",
       "        vertical-align: top;\n",
       "    }\n",
       "\n",
       "    .dataframe thead th {\n",
       "        text-align: right;\n",
       "    }\n",
       "</style>\n",
       "<table border=\"1\" class=\"dataframe\">\n",
       "  <thead>\n",
       "    <tr style=\"text-align: right;\">\n",
       "      <th></th>\n",
       "      <th>probability</th>\n",
       "      <th>p_true_given_pos</th>\n",
       "    </tr>\n",
       "  </thead>\n",
       "  <tbody>\n",
       "    <tr>\n",
       "      <th>0</th>\n",
       "      <td>0.000000e+00</td>\n",
       "      <td>1.0</td>\n",
       "    </tr>\n",
       "    <tr>\n",
       "      <th>1</th>\n",
       "      <td>1.667747e-197</td>\n",
       "      <td>0.9</td>\n",
       "    </tr>\n",
       "    <tr>\n",
       "      <th>2</th>\n",
       "      <td>9.039503e-106</td>\n",
       "      <td>0.8</td>\n",
       "    </tr>\n",
       "    <tr>\n",
       "      <th>3</th>\n",
       "      <td>2.833279e-57</td>\n",
       "      <td>0.7</td>\n",
       "    </tr>\n",
       "    <tr>\n",
       "      <th>4</th>\n",
       "      <td>1.298660e-27</td>\n",
       "      <td>0.6</td>\n",
       "    </tr>\n",
       "    <tr>\n",
       "      <th>5</th>\n",
       "      <td>1.276176e-09</td>\n",
       "      <td>0.5</td>\n",
       "    </tr>\n",
       "    <tr>\n",
       "      <th>6</th>\n",
       "      <td>7.574726e-01</td>\n",
       "      <td>0.4</td>\n",
       "    </tr>\n",
       "    <tr>\n",
       "      <th>7</th>\n",
       "      <td>2.425274e-01</td>\n",
       "      <td>0.3</td>\n",
       "    </tr>\n",
       "    <tr>\n",
       "      <th>8</th>\n",
       "      <td>2.946207e-14</td>\n",
       "      <td>0.2</td>\n",
       "    </tr>\n",
       "    <tr>\n",
       "      <th>9</th>\n",
       "      <td>1.849233e-52</td>\n",
       "      <td>0.1</td>\n",
       "    </tr>\n",
       "  </tbody>\n",
       "</table>\n",
       "</div>\n",
       "    <div class=\"colab-df-buttons\">\n",
       "\n",
       "  <div class=\"colab-df-container\">\n",
       "    <button class=\"colab-df-convert\" onclick=\"convertToInteractive('df-834057b0-dee2-4441-8af5-c7396445c4b4')\"\n",
       "            title=\"Convert this dataframe to an interactive table.\"\n",
       "            style=\"display:none;\">\n",
       "\n",
       "  <svg xmlns=\"http://www.w3.org/2000/svg\" height=\"24px\" viewBox=\"0 -960 960 960\">\n",
       "    <path d=\"M120-120v-720h720v720H120Zm60-500h600v-160H180v160Zm220 220h160v-160H400v160Zm0 220h160v-160H400v160ZM180-400h160v-160H180v160Zm440 0h160v-160H620v160ZM180-180h160v-160H180v160Zm440 0h160v-160H620v160Z\"/>\n",
       "  </svg>\n",
       "    </button>\n",
       "\n",
       "  <style>\n",
       "    .colab-df-container {\n",
       "      display:flex;\n",
       "      gap: 12px;\n",
       "    }\n",
       "\n",
       "    .colab-df-convert {\n",
       "      background-color: #E8F0FE;\n",
       "      border: none;\n",
       "      border-radius: 50%;\n",
       "      cursor: pointer;\n",
       "      display: none;\n",
       "      fill: #1967D2;\n",
       "      height: 32px;\n",
       "      padding: 0 0 0 0;\n",
       "      width: 32px;\n",
       "    }\n",
       "\n",
       "    .colab-df-convert:hover {\n",
       "      background-color: #E2EBFA;\n",
       "      box-shadow: 0px 1px 2px rgba(60, 64, 67, 0.3), 0px 1px 3px 1px rgba(60, 64, 67, 0.15);\n",
       "      fill: #174EA6;\n",
       "    }\n",
       "\n",
       "    .colab-df-buttons div {\n",
       "      margin-bottom: 4px;\n",
       "    }\n",
       "\n",
       "    [theme=dark] .colab-df-convert {\n",
       "      background-color: #3B4455;\n",
       "      fill: #D2E3FC;\n",
       "    }\n",
       "\n",
       "    [theme=dark] .colab-df-convert:hover {\n",
       "      background-color: #434B5C;\n",
       "      box-shadow: 0px 1px 3px 1px rgba(0, 0, 0, 0.15);\n",
       "      filter: drop-shadow(0px 1px 2px rgba(0, 0, 0, 0.3));\n",
       "      fill: #FFFFFF;\n",
       "    }\n",
       "  </style>\n",
       "\n",
       "    <script>\n",
       "      const buttonEl =\n",
       "        document.querySelector('#df-834057b0-dee2-4441-8af5-c7396445c4b4 button.colab-df-convert');\n",
       "      buttonEl.style.display =\n",
       "        google.colab.kernel.accessAllowed ? 'block' : 'none';\n",
       "\n",
       "      async function convertToInteractive(key) {\n",
       "        const element = document.querySelector('#df-834057b0-dee2-4441-8af5-c7396445c4b4');\n",
       "        const dataTable =\n",
       "          await google.colab.kernel.invokeFunction('convertToInteractive',\n",
       "                                                    [key], {});\n",
       "        if (!dataTable) return;\n",
       "\n",
       "        const docLinkHtml = 'Like what you see? Visit the ' +\n",
       "          '<a target=\"_blank\" href=https://colab.research.google.com/notebooks/data_table.ipynb>data table notebook</a>'\n",
       "          + ' to learn more about interactive tables.';\n",
       "        element.innerHTML = '';\n",
       "        dataTable['output_type'] = 'display_data';\n",
       "        await google.colab.output.renderOutput(dataTable, element);\n",
       "        const docLink = document.createElement('div');\n",
       "        docLink.innerHTML = docLinkHtml;\n",
       "        element.appendChild(docLink);\n",
       "      }\n",
       "    </script>\n",
       "  </div>\n",
       "\n",
       "\n",
       "<div id=\"df-e300739d-bcee-4573-9d6d-5ef7b8634bb1\">\n",
       "  <button class=\"colab-df-quickchart\" onclick=\"quickchart('df-e300739d-bcee-4573-9d6d-5ef7b8634bb1')\"\n",
       "            title=\"Suggest charts\"\n",
       "            style=\"display:none;\">\n",
       "\n",
       "<svg xmlns=\"http://www.w3.org/2000/svg\" height=\"24px\"viewBox=\"0 0 24 24\"\n",
       "     width=\"24px\">\n",
       "    <g>\n",
       "        <path d=\"M19 3H5c-1.1 0-2 .9-2 2v14c0 1.1.9 2 2 2h14c1.1 0 2-.9 2-2V5c0-1.1-.9-2-2-2zM9 17H7v-7h2v7zm4 0h-2V7h2v10zm4 0h-2v-4h2v4z\"/>\n",
       "    </g>\n",
       "</svg>\n",
       "  </button>\n",
       "\n",
       "<style>\n",
       "  .colab-df-quickchart {\n",
       "      --bg-color: #E8F0FE;\n",
       "      --fill-color: #1967D2;\n",
       "      --hover-bg-color: #E2EBFA;\n",
       "      --hover-fill-color: #174EA6;\n",
       "      --disabled-fill-color: #AAA;\n",
       "      --disabled-bg-color: #DDD;\n",
       "  }\n",
       "\n",
       "  [theme=dark] .colab-df-quickchart {\n",
       "      --bg-color: #3B4455;\n",
       "      --fill-color: #D2E3FC;\n",
       "      --hover-bg-color: #434B5C;\n",
       "      --hover-fill-color: #FFFFFF;\n",
       "      --disabled-bg-color: #3B4455;\n",
       "      --disabled-fill-color: #666;\n",
       "  }\n",
       "\n",
       "  .colab-df-quickchart {\n",
       "    background-color: var(--bg-color);\n",
       "    border: none;\n",
       "    border-radius: 50%;\n",
       "    cursor: pointer;\n",
       "    display: none;\n",
       "    fill: var(--fill-color);\n",
       "    height: 32px;\n",
       "    padding: 0;\n",
       "    width: 32px;\n",
       "  }\n",
       "\n",
       "  .colab-df-quickchart:hover {\n",
       "    background-color: var(--hover-bg-color);\n",
       "    box-shadow: 0 1px 2px rgba(60, 64, 67, 0.3), 0 1px 3px 1px rgba(60, 64, 67, 0.15);\n",
       "    fill: var(--button-hover-fill-color);\n",
       "  }\n",
       "\n",
       "  .colab-df-quickchart-complete:disabled,\n",
       "  .colab-df-quickchart-complete:disabled:hover {\n",
       "    background-color: var(--disabled-bg-color);\n",
       "    fill: var(--disabled-fill-color);\n",
       "    box-shadow: none;\n",
       "  }\n",
       "\n",
       "  .colab-df-spinner {\n",
       "    border: 2px solid var(--fill-color);\n",
       "    border-color: transparent;\n",
       "    border-bottom-color: var(--fill-color);\n",
       "    animation:\n",
       "      spin 1s steps(1) infinite;\n",
       "  }\n",
       "\n",
       "  @keyframes spin {\n",
       "    0% {\n",
       "      border-color: transparent;\n",
       "      border-bottom-color: var(--fill-color);\n",
       "      border-left-color: var(--fill-color);\n",
       "    }\n",
       "    20% {\n",
       "      border-color: transparent;\n",
       "      border-left-color: var(--fill-color);\n",
       "      border-top-color: var(--fill-color);\n",
       "    }\n",
       "    30% {\n",
       "      border-color: transparent;\n",
       "      border-left-color: var(--fill-color);\n",
       "      border-top-color: var(--fill-color);\n",
       "      border-right-color: var(--fill-color);\n",
       "    }\n",
       "    40% {\n",
       "      border-color: transparent;\n",
       "      border-right-color: var(--fill-color);\n",
       "      border-top-color: var(--fill-color);\n",
       "    }\n",
       "    60% {\n",
       "      border-color: transparent;\n",
       "      border-right-color: var(--fill-color);\n",
       "    }\n",
       "    80% {\n",
       "      border-color: transparent;\n",
       "      border-right-color: var(--fill-color);\n",
       "      border-bottom-color: var(--fill-color);\n",
       "    }\n",
       "    90% {\n",
       "      border-color: transparent;\n",
       "      border-bottom-color: var(--fill-color);\n",
       "    }\n",
       "  }\n",
       "</style>\n",
       "\n",
       "  <script>\n",
       "    async function quickchart(key) {\n",
       "      const quickchartButtonEl =\n",
       "        document.querySelector('#' + key + ' button');\n",
       "      quickchartButtonEl.disabled = true;  // To prevent multiple clicks.\n",
       "      quickchartButtonEl.classList.add('colab-df-spinner');\n",
       "      try {\n",
       "        const charts = await google.colab.kernel.invokeFunction(\n",
       "            'suggestCharts', [key], {});\n",
       "      } catch (error) {\n",
       "        console.error('Error during call to suggestCharts:', error);\n",
       "      }\n",
       "      quickchartButtonEl.classList.remove('colab-df-spinner');\n",
       "      quickchartButtonEl.classList.add('colab-df-quickchart-complete');\n",
       "    }\n",
       "    (() => {\n",
       "      let quickchartButtonEl =\n",
       "        document.querySelector('#df-e300739d-bcee-4573-9d6d-5ef7b8634bb1 button');\n",
       "      quickchartButtonEl.style.display =\n",
       "        google.colab.kernel.accessAllowed ? 'block' : 'none';\n",
       "    })();\n",
       "  </script>\n",
       "</div>\n",
       "\n",
       "  <div id=\"id_85ebed22-2df2-4102-bc8d-dae647adcdb3\">\n",
       "    <style>\n",
       "      .colab-df-generate {\n",
       "        background-color: #E8F0FE;\n",
       "        border: none;\n",
       "        border-radius: 50%;\n",
       "        cursor: pointer;\n",
       "        display: none;\n",
       "        fill: #1967D2;\n",
       "        height: 32px;\n",
       "        padding: 0 0 0 0;\n",
       "        width: 32px;\n",
       "      }\n",
       "\n",
       "      .colab-df-generate:hover {\n",
       "        background-color: #E2EBFA;\n",
       "        box-shadow: 0px 1px 2px rgba(60, 64, 67, 0.3), 0px 1px 3px 1px rgba(60, 64, 67, 0.15);\n",
       "        fill: #174EA6;\n",
       "      }\n",
       "\n",
       "      [theme=dark] .colab-df-generate {\n",
       "        background-color: #3B4455;\n",
       "        fill: #D2E3FC;\n",
       "      }\n",
       "\n",
       "      [theme=dark] .colab-df-generate:hover {\n",
       "        background-color: #434B5C;\n",
       "        box-shadow: 0px 1px 3px 1px rgba(0, 0, 0, 0.15);\n",
       "        filter: drop-shadow(0px 1px 2px rgba(0, 0, 0, 0.3));\n",
       "        fill: #FFFFFF;\n",
       "      }\n",
       "    </style>\n",
       "    <button class=\"colab-df-generate\" onclick=\"generateWithVariable('candidate_positions')\"\n",
       "            title=\"Generate code using this dataframe.\"\n",
       "            style=\"display:none;\">\n",
       "\n",
       "  <svg xmlns=\"http://www.w3.org/2000/svg\" height=\"24px\"viewBox=\"0 0 24 24\"\n",
       "       width=\"24px\">\n",
       "    <path d=\"M7,19H8.4L18.45,9,17,7.55,7,17.6ZM5,21V16.75L18.45,3.32a2,2,0,0,1,2.83,0l1.4,1.43a1.91,1.91,0,0,1,.58,1.4,1.91,1.91,0,0,1-.58,1.4L9.25,21ZM18.45,9,17,7.55Zm-12,3A5.31,5.31,0,0,0,4.9,8.1,5.31,5.31,0,0,0,1,6.5,5.31,5.31,0,0,0,4.9,4.9,5.31,5.31,0,0,0,6.5,1,5.31,5.31,0,0,0,8.1,4.9,5.31,5.31,0,0,0,12,6.5,5.46,5.46,0,0,0,6.5,12Z\"/>\n",
       "  </svg>\n",
       "    </button>\n",
       "    <script>\n",
       "      (() => {\n",
       "      const buttonEl =\n",
       "        document.querySelector('#id_85ebed22-2df2-4102-bc8d-dae647adcdb3 button.colab-df-generate');\n",
       "      buttonEl.style.display =\n",
       "        google.colab.kernel.accessAllowed ? 'block' : 'none';\n",
       "\n",
       "      buttonEl.onclick = () => {\n",
       "        google.colab.notebook.generateWithVariable('candidate_positions');\n",
       "      }\n",
       "      })();\n",
       "    </script>\n",
       "  </div>\n",
       "\n",
       "    </div>\n",
       "  </div>\n"
      ],
      "text/plain": [
       "     probability  p_true_given_pos\n",
       "0   0.000000e+00               1.0\n",
       "1  1.667747e-197               0.9\n",
       "2  9.039503e-106               0.8\n",
       "3   2.833279e-57               0.7\n",
       "4   1.298660e-27               0.6\n",
       "5   1.276176e-09               0.5\n",
       "6   7.574726e-01               0.4\n",
       "7   2.425274e-01               0.3\n",
       "8   2.946207e-14               0.2\n",
       "9   1.849233e-52               0.1"
      ]
     },
     "execution_count": 79,
     "metadata": {},
     "output_type": "execute_result"
    },
    {
     "data": {
      "image/png": "[encoded data removed]",
      "text/plain": [
       "<Figure size 640x480 with 1 Axes>"
      ]
     },
     "metadata": {},
     "output_type": "display_data"
    }
   ],
   "source": [
    "candidate_positions['probability'].plot(kind='bar')\n",
    "candidate_positions"
   ]
  },
  {
   "cell_type": "code",
   "execution_count": 80,
   "metadata": {
    "colab": {
     "base_uri": "https://localhost:8080/",
     "height": 466
    },
    "id": "NfchtuTDnfz2",
    "outputId": "d479a718-b3ac-4017-c11f-220dbdcb502d"
   },
   "outputs": [
    {
     "data": {
      "text/plain": [
       "<matplotlib.legend.Legend at 0x7c6cc8c9e190>"
      ]
     },
     "execution_count": 80,
     "metadata": {},
     "output_type": "execute_result"
    },
    {
     "data": {
      "image/png": "[encoded data removed]",
      "text/plain": [
       "<Figure size 640x480 with 1 Axes>"
      ]
     },
     "metadata": {},
     "output_type": "display_data"
    }
   ],
   "source": [
    "# function to alternate background color\n",
    "def alt_bands(ax=None, highlight = None):\n",
    "    ax = ax or plt.gca()\n",
    "    ax.set_xlim(0, 11)\n",
    "    x_left, x_right = ax.get_xlim()\n",
    "    locs = ax.get_xticks()\n",
    "    count = 0\n",
    "    for loc1, loc2 in zip(locs[::1], np.concatenate((locs, [x_right]))[1::1]):\n",
    "        if count == highlight:\n",
    "          ax.axvspan(loc1, loc1+1, facecolor='yellow', alpha=0.2)\n",
    "        else:\n",
    "          ax.axvspan(loc1, loc1+1, facecolor='gray', alpha=0.2)\n",
    "        count+= 1\n",
    "    ax.set_xlim(0, 11)\n",
    "\n",
    "\n",
    "plt.scatter(successes, range(len(successes)))\n",
    "plt.scatter(failures, range(len(failures)))\n",
    "alt_bands(plt.gca(), highlight=3)\n",
    "plt.legend((\"To the Right\", \"To the left\"))"
   ]
  },
  {
   "cell_type": "markdown",
   "metadata": {
    "id": "-PzCIOIH3N6O"
   },
   "source": [
    "## Q1d\n",
    "\n",
    "When the results are displayed above for the simulation, the correct answer becomes clear. However, it's important to remember, your update of the probability did not have access to the location of the ball at any time. Rather, it is only told whether the ball hit to the left or to the right.\n",
    "\n",
    "In your own words, provide an explanation for the intuition captured in Bayes rule for updating probabilities in Bayes game. Why does this work?\n",
    "\n"
   ]
  },
  {
   "cell_type": "markdown",
   "metadata": {
    "id": "Ycm-UBVWogg3"
   },
   "source": [
    "Each time the ball lands, the player knows whether it has landed to the left or to the right of the mark.  This helps the player update their understanding of the mark's location.  Therefore, the player's guesses become successivelt more accurate as new candidate positions are added."
   ]
  },
  {
   "cell_type": "markdown",
   "metadata": {
    "id": "XkeFT3sg7hbg"
   },
   "source": [
    "# Q2\n",
    "\n",
    "Monte carlo simulation is a method of using random occurence to estimate outcomes.\n",
    "\n",
    "## Q2a\n",
    "\n",
    "Use list comprehension to generate an array of random values with length equal to trial and distributed between -0.5 and 0.5. This will be done twice to estimate x values and y values that are inside of a 1x1 square centered at (0,0).\n",
    "\n",
    "Next, decide if each x y pair stored as `(guesses_x[0], guesses_y[0])` is within a circle of radius 0.5 which is centered at zero. This can be done finding the distance of each pair from zero and comparing this to the radius. Perform these operations using vectorized operations.\n",
    "\n",
    "Finally, plot the points using a scatter plot. The points within the circle and without must be different colors.\n",
    "\n",
    "Hint: combine guesses_x, guesses_y, and successes into a dataframe. Then use df.plot.scatter and use the c keyword argument to control the color."
   ]
  },
  {
   "cell_type": "code",
   "execution_count": 81,
   "metadata": {
    "colab": {
     "base_uri": "https://localhost:8080/",
     "height": 466
    },
    "id": "reFmuKCe7svq",
    "outputId": "b51b805e-4539-4d8e-9497-d28ba31f72da"
   },
   "outputs": [
    {
     "name": "stdout",
     "output_type": "stream",
     "text": [
      "3.1478\n"
     ]
    },
    {
     "data": {
      "image/png": "[encoded data removed]",
      "text/plain": [
       "<Figure size 640x480 with 1 Axes>"
      ]
     },
     "metadata": {},
     "output_type": "display_data"
    }
   ],
   "source": [
    "trials = 100000\n",
    "random.seed(32)\n",
    "\n",
    "guesses_x = np.random.uniform(-.5, .5, trials)\n",
    "guesses_y = np.random.uniform(-.5, .5, trials)\n",
    "successes = ((guesses_x ** 2) + (guesses_y ** 2)) <= (.5 ** 2)\n",
    "print(np.sum(successes)/(trials*0.5**2))\n",
    "df = pd.DataFrame({\n",
    "    \"X Guess\":guesses_x,\n",
    "    \"Y Guess\":guesses_y,\n",
    "    \"Successes\":successes\n",
    "})\n",
    "\n",
    "# Plotting\n",
    "plt.scatter(df['X Guess'], df['Y Guess'], c=df['Successes'], s=10)\n",
    "plt.show()"
   ]
  },
  {
   "cell_type": "code",
   "execution_count": 82,
   "metadata": {
    "colab": {
     "base_uri": "https://localhost:8080/"
    },
    "id": "UrJIgy0BrlLu",
    "outputId": "9d9386d4-2439-447f-f764-77161d75b708"
   },
   "outputs": [
    {
     "name": "stdout",
     "output_type": "stream",
     "text": [
      "~~~~~~~~~~~~~~~~~~~~~~~~~~~~~~~~~~~~~~~~~~~~~~~~~~~~~~~~~~~~~~~~~~~~~\n",
      "Running tests\n",
      "\n",
      "---------------------------------------------------------------------\n",
      "q2a > Suite 1 > Case 1\n",
      "\n",
      ">>> np.isclose(np.sum(successes)/(trials*0.5**2), 3.14832)\n",
      "False\n",
      "\n",
      "# Error: expected\n",
      "#     True\n",
      "# but got\n",
      "#     False\n",
      "\n",
      "Run only this test case with \"python3 ok -q q2a --suite 1 --case 1\"\n",
      "---------------------------------------------------------------------\n",
      "Test summary\n",
      "    Passed: 0\n",
      "    Failed: 1\n",
      "[k..........] 0.0% passed\n",
      "\n"
     ]
    }
   ],
   "source": [
    "ok.grade(\"q2a\");"
   ]
  },
  {
   "cell_type": "markdown",
   "metadata": {
    "id": "lQeqqWSZBJoU"
   },
   "source": [
    "Notice, the probability of a random location being within a certain distance of a point is a function of pi! Hmm... I wonder if this has anythign to do with the $\\pi$ in the normal distribution formula?\n",
    "\n",
    "$f(x)=\\frac{1}{\\sigma\\sqrt{2\\pi}}e^{[-\\frac{(x-\\mu)^{2}}{2\\sigma^{2}}]}$\n",
    "\n",
    "## Q2b\n",
    "\n",
    "Explore the formulation of the normation distribution and how it relates to $\\pi$. Enter the prompt below in a large language model and consider its response.\n",
    "\n",
    "Prompt: `\n",
    "Explain the connection between the probability of a point lying within a distance of a location and the normal distribution. Point out how the probability changes with the square root of the distance. Specifically, connect these to the existence of pi in the normal distribution.`\n",
    "\n",
    "Is the $\\pi$ in the normal distribution connected to the simulation above? If so, how?\n",
    "\n",
    "Answer:\n"
   ]
  },
  {
   "cell_type": "markdown",
   "metadata": {
    "id": "aSIJpxKR1_rz"
   },
   "source": [
    "The area of a circle, which is a function of pi and r^2, is directly correlated with the probability of a point landing within the circle.  As the circle grows, so does the probability that a point will land in it, as does r^2.  The normal distribution includes pi because it is a factor in the area of a circle.   "
   ]
  },
  {
   "cell_type": "markdown",
   "metadata": {
    "id": "RQezrSUmeMHU"
   },
   "source": [
    "\n",
    "## Question 3 ##\n",
    "\n",
    "Let $n$ be a positive integer and let $s$ be an integer such that $0 \\le s \\le n$. Consider a sample of size $n$ drawn at random with replacement from a population in which a proportion $p$ of the individuals are called successes.\n",
    "\n",
    "Provide a math expression for the probability that the number of successes in the sample is at most $s$.\n",
    "\n",
    "In probability classes this probability will typically be denoted $P(S \\le s)$ where $S$ denotes the random number of successes in the sample. Formal definitions of the pieces of this notation aren't particularly helpful for our purposes. Just read it as \"the probability that the number of successes is at most $s$.\"\n"
   ]
  },
  {
   "cell_type": "markdown",
   "metadata": {
    "id": "JqQWzFMieMHU"
   },
   "source": [
    "Hint:\n",
    "\n",
    "**Binomial distribution**\n",
    "\n",
    "$\\sum_{k=0}^s \\binom{n}{k}p^k(1-p)^{n-k}$"
   ]
  },
  {
   "cell_type": "markdown",
   "metadata": {
    "id": "B5QJrp3reMHU"
   },
   "source": [
    "### Q3a ###\n",
    "\n",
    "Please fill in the function `prob_at_most` which takes $n$, $p$, and $s$ and returns $P(S \\le s)$ as defined in Part **a**. If the inputs are invalid: for instance, if $p > 1$ OR $s > n$ then return 0.\"\n",
    "\n",
    "It might help to refer to the calculation in Question 1b.\n",
    "\n",
    "<!--\n",
    "BEGIN QUESTION\n",
    "name: q2b\n",
    "manual: false\n",
    "points: 1\n",
    "-->"
   ]
  },
  {
   "cell_type": "code",
   "execution_count": 83,
   "metadata": {
    "id": "F8mRv5FJeMHU"
   },
   "outputs": [],
   "source": [
    "def nCr(n, k):\n",
    "  return math.factorial(n) // (math.factorial(k) * math.factorial(n-k))\n",
    "\n",
    "def get_prob(p, n, k):\n",
    "  return nCr(n, k) * (p**k) * ((1-p)**(n-k))\n",
    "\n",
    "def prob_at_most(n, p, s):\n",
    "    \"\"\"\n",
    "    returns the probability of S <= s\n",
    "    Input n: sample size; p : proportion; s: number of successes at most\"\"\"\n",
    "    if p > 1 or s > n: return 0\n",
    "    prob = 0\n",
    "    for k in range(s+1):\n",
    "      prob += get_prob(p, n, k)\n",
    "    return prob"
   ]
  },
  {
   "cell_type": "code",
   "execution_count": 84,
   "metadata": {
    "colab": {
     "base_uri": "https://localhost:8080/"
    },
    "id": "sLyy3IHYeMHU",
    "outputId": "6276a946-81ed-40dd-b2e5-b026013c4744"
   },
   "outputs": [
    {
     "name": "stdout",
     "output_type": "stream",
     "text": [
      "~~~~~~~~~~~~~~~~~~~~~~~~~~~~~~~~~~~~~~~~~~~~~~~~~~~~~~~~~~~~~~~~~~~~~\n",
      "Running tests\n",
      "\n",
      "---------------------------------------------------------------------\n",
      "Test summary\n",
      "    Passed: 3\n",
      "    Failed: 0\n",
      "[ooooooooook] 100.0% passed\n",
      "\n"
     ]
    }
   ],
   "source": [
    "ok.grade(\"q3a\");"
   ]
  },
  {
   "cell_type": "markdown",
   "metadata": {
    "id": "UTaTsocleMHU"
   },
   "source": [
    "## Q3b\n",
    "\n",
    "The sum of successes is a sample statistic. A similar probability can be developed by empirically discovering the distribution of the statistic given the number of trials.\n",
    "\n",
    "Empirically estimate the PDF through sampling (as done in the in-class exercise) and kernel density estimation. Use the returned PDF to estimate the probability that $P(S \\le s)$ given a sample size $n = 12$. Your function should appropriately integrate the PDF using scipy for any value of $s$.\n",
    "\n",
    "This process should look remarkably similar to the empirical distribution of the distribution of the statistical mean.\n"
   ]
  },
  {
   "cell_type": "code",
   "execution_count": 85,
   "metadata": {
    "colab": {
     "base_uri": "https://localhost:8080/",
     "height": 466
    },
    "id": "6G_W9jaoeMHV",
    "outputId": "b5ebe540-46e8-4e97-c254-8bb713cef85b"
   },
   "outputs": [
    {
     "data": {
      "image/png": "[encoded data removed]",
      "text/plain": [
       "<Figure size 640x480 with 1 Axes>"
      ]
     },
     "metadata": {},
     "output_type": "display_data"
    },
    {
     "name": "stdout",
     "output_type": "stream",
     "text": [
      "0.9850406847023283\n"
     ]
    }
   ],
   "source": [
    "n = 12\n",
    "p = 0.3\n",
    "s = 8\n",
    "max_samples = 1000\n",
    "\n",
    "\n",
    "\n",
    "def get_samples(n, p, max_samples):\n",
    "    samples = []\n",
    "    for i in range(max_samples):\n",
    "        sum_successes = 0\n",
    "        for j in range(n):\n",
    "            success = random.uniform(0, 1)\n",
    "            if success < p:\n",
    "                sum_successes += 1\n",
    "        samples.append(sum_successes)\n",
    "    return samples\n",
    "\n",
    "\n",
    "successes = get_samples(n, p, max_samples)\n",
    "kernel = scipy.stats.gaussian_kde(successes)\n",
    "x = np.linspace(0, n)\n",
    "pdf = kernel(x)\n",
    "\n",
    "def prob_at_most_empirical(s, pdf, n=12, p=0.3):\n",
    "    \"\"\"\n",
    "    returns the probability of S <= s\n",
    "    Input n is set to 12; p is set to 0.3; s: number of successes at most.\n",
    "    Explicitly uses the pdf of the statistical number of successes to estimate\n",
    "    the probability of less than or equal to the value s.\"\"\"\n",
    "\n",
    "    return scipy.integrate.quad(kernel, 0, s)[0]\n",
    "\n",
    "\n",
    "probability = prob_at_most_empirical(s, pdf)\n",
    "\n",
    "plt.plot(x, pdf)\n",
    "plt.fill(x, pdf, alpha=.3)\n",
    "plt.show()\n",
    "print(probability)\n",
    "\n"
   ]
  },
  {
   "cell_type": "markdown",
   "metadata": {
    "id": "dZWvh5wTeMHV"
   },
   "source": [
    "### Q3c ###\n",
    "In an election, supporters of Candidate C are in a minority. Only 45% of the voters in the population favor the candidate.\n",
    "\n",
    "Suppose a survey organization takes a sample of 200 voters at random with replacement from this population. Use `prob_at_most` to write an expression that evaluates to the chance that a majority (more than half) of the sampled voters favor Candidate C.\n",
    "\n",
    "<!--\n",
    "BEGIN QUESTION\n",
    "name: q2c\n",
    "manual: false\n",
    "points: 1\n",
    "-->"
   ]
  },
  {
   "cell_type": "code",
   "execution_count": 86,
   "metadata": {
    "colab": {
     "base_uri": "https://localhost:8080/"
    },
    "id": "3bLZOpY8eMHV",
    "outputId": "7bc6ef97-ccd2-4aa9-9a84-aeba67c1eea5"
   },
   "outputs": [
    {
     "data": {
      "text/plain": [
       "0.9319247501372618"
      ]
     },
     "execution_count": 86,
     "metadata": {},
     "output_type": "execute_result"
    }
   ],
   "source": [
    "p_majority = prob_at_most(200, .45, 100)\n",
    "p_majority"
   ]
  },
  {
   "cell_type": "code",
   "execution_count": 87,
   "metadata": {
    "colab": {
     "base_uri": "https://localhost:8080/"
    },
    "id": "lrOqt4bgeMHV",
    "outputId": "29c1dfad-2310-48cb-d460-7ad53836c6d2"
   },
   "outputs": [
    {
     "name": "stdout",
     "output_type": "stream",
     "text": [
      "~~~~~~~~~~~~~~~~~~~~~~~~~~~~~~~~~~~~~~~~~~~~~~~~~~~~~~~~~~~~~~~~~~~~~\n",
      "Running tests\n",
      "\n",
      "---------------------------------------------------------------------\n",
      "Test summary\n",
      "    Passed: 1\n",
      "    Failed: 0\n",
      "[ooooooooook] 100.0% passed\n",
      "\n"
     ]
    }
   ],
   "source": [
    "ok.grade(\"q3c\");"
   ]
  },
  {
   "cell_type": "markdown",
   "metadata": {
    "id": "rezUCJiPeMHV"
   },
   "source": [
    "### Q3d ###\n",
    "Suppose each of five survey organizations takes a sample of voters at random with replacement from the population of voters in Part **c**, independently of the samples drawn by the other organizations.\n",
    "\n",
    "- Three of the organizations use a sample size of 200\n",
    "- One organization uses a sample size of 300\n",
    "- One organization uses a sample size of 400\n",
    "\n",
    "Write an expression that evaluates to the chance that in at least one of the five samples the majority of voters favor Candidate C. You can use any quantity or function defined earlier in this exercise.\n",
    "\n",
    "<!--\n",
    "BEGIN QUESTION\n",
    "name: q2d\n",
    "manual: false\n",
    "points: 2\n",
    "-->"
   ]
  },
  {
   "cell_type": "code",
   "execution_count": 88,
   "metadata": {
    "colab": {
     "base_uri": "https://localhost:8080/"
    },
    "id": "Dmbg0kFbeMHV",
    "outputId": "4b71e1b8-542d-47f3-9d5c-1cb8091d0739"
   },
   "outputs": [
    {
     "data": {
      "text/plain": [
       "0.052075905812333345"
      ]
     },
     "execution_count": 88,
     "metadata": {},
     "output_type": "execute_result"
    }
   ],
   "source": [
    "complement = (3 * prob_at_most(200, .45, 100) + prob_at_most(300, .45, 150) + prob_at_most(400, .45, 200))/5\n",
    "prob_3d = 1 - complement\n",
    "prob_3d"
   ]
  },
  {
   "cell_type": "code",
   "execution_count": 89,
   "metadata": {
    "colab": {
     "base_uri": "https://localhost:8080/"
    },
    "id": "BDfkWnMmeMHV",
    "outputId": "04747dcc-f831-4b70-9597-8d7b98683db4"
   },
   "outputs": [
    {
     "name": "stdout",
     "output_type": "stream",
     "text": [
      "~~~~~~~~~~~~~~~~~~~~~~~~~~~~~~~~~~~~~~~~~~~~~~~~~~~~~~~~~~~~~~~~~~~~~\n",
      "Running tests\n",
      "\n",
      "---------------------------------------------------------------------\n",
      "Test summary\n",
      "    Passed: 1\n",
      "    Failed: 0\n",
      "[ooooooooook] 100.0% passed\n",
      "\n"
     ]
    }
   ],
   "source": [
    "ok.grade(\"q3d\");"
   ]
  },
  {
   "cell_type": "markdown",
   "metadata": {
    "id": "ybGn621SeMHV"
   },
   "source": [
    "# Q4\n",
    "\n",
    "Hypothesis testing and Bias\n",
    "\n",
    "## Q4a\n",
    "\n",
    "In the course textbook, read section [11.1](https://inferentialthinking.com/chapters/11/1/Assessing_a_Model.html).\n",
    "\n",
    "This section is a wonderful explanation of hypothesis testing and a real world application. The code provided in the chapter uses special toolboxes built for that course. However, there's no need for those toolboxes. Recreate the entirety of their code here without using their specialized toolbox. Rather, use the standard tools which we have seen in class.\n",
    "\n",
    "Your code should recreate images as well as performing all operations. The images do not have to look indentical but must show the same information.\n",
    "\n",
    "Note: The content of this section is assigned due to its relevance to hypothesis testing and the impact of the application. It's inclusion is not an endorsement of any opinions that are offered by the authors of that section, and neither is this statement an indication of disagreement. Each student should come to their own conclusions regarding any opinion based claims in the reading."
   ]
  },
  {
   "cell_type": "code",
   "execution_count": 90,
   "metadata": {
    "id": "aREZfQcvarpq"
   },
   "outputs": [],
   "source": [
    "def sample_proportions(sample_size, population_proportions):\n",
    "  jury0 = np.random.binomial(sample_size, population_proportions[0])/sample_size\n",
    "  return (jury0, 1-jury0)"
   ]
  },
  {
   "cell_type": "code",
   "execution_count": 91,
   "metadata": {
    "id": "JI844jcGdgzw"
   },
   "outputs": [],
   "source": [
    "def one_simulated_count(sample_size, eligible_population):\n",
    "  jury0 = np.random.binomial(sample_size, eligible_population[0])\n",
    "  return (jury0, sample_size - jury0)"
   ]
  },
  {
   "cell_type": "code",
   "execution_count": 92,
   "metadata": {
    "colab": {
     "base_uri": "https://localhost:8080/",
     "height": 474
    },
    "id": "lMNQ8YpQeMHV",
    "outputId": "68d5ee9d-be17-4dba-d8ff-a9b1557307b4"
   },
   "outputs": [
    {
     "data": {
      "image/png": "[encoded data removed]",
      "text/plain": [
       "<Figure size 640x480 with 1 Axes>"
      ]
     },
     "metadata": {},
     "output_type": "display_data"
    }
   ],
   "source": [
    "\n",
    "sample_size = 100\n",
    "eligible_population = [0.26, 0.74]\n",
    "\n",
    "\n",
    "repetitions = 10000\n",
    "counts = np.array([])\n",
    "for i in np.arange(repetitions):\n",
    "  counts = np.append(counts, one_simulated_count(sample_size, eligible_population)[0])\n",
    "\n",
    "\n",
    "plt.title(f\"Count Black Jurors with {repetitions} tests\")\n",
    "plt.xlabel(f\"Counts in a Random Sample of {sample_size}\")\n",
    "plt.ylabel(\"Frequency\")\n",
    "plt.hist(counts, density=True)\n",
    "plt.scatter(8, .002, color=\"red\", s=30, label=\"Actual Amount of Black Jurors: 8\")\n",
    "plt.ylim(0, max(plt.ylim()[1], 0.052))\n",
    "plt.tight_layout()\n",
    "plt.legend()\n",
    "plt.show()"
   ]
  },
  {
   "cell_type": "markdown",
   "metadata": {
    "id": "wG8lp3iEeMHV"
   },
   "source": [
    "## Q4b\n",
    "\n",
    "Extend their results. The above stops after showing the number of black jurors on the panel seems improbable given the histogram. Here, you should also estimate the PDF with KDE and find the probability of having a sum of 8 or fewer jurors on the panel."
   ]
  },
  {
   "cell_type": "code",
   "execution_count": 93,
   "metadata": {
    "colab": {
     "base_uri": "https://localhost:8080/"
    },
    "id": "eIO0qBcXeMHV",
    "outputId": "c83b1fc4-593f-46d8-f8ab-e9b37d83640e"
   },
   "outputs": [
    {
     "name": "stdout",
     "output_type": "stream",
     "text": [
      "Probability that 8 or fewer  jurors are black is less than 0.0000000765 percent: 7.645105 / 1 million\n"
     ]
    }
   ],
   "source": [
    "successes = get_samples(sample_size, eligible_population[0], repetitions)\n",
    "kernel = scipy.stats.gaussian_kde(successes)\n",
    "x = np.linspace(0, sample_size)\n",
    "pdf = kernel(x)\n",
    "\n",
    "empirical_prob = prob_at_most_empirical(8, pdf, sample_size, eligible_population[0])\n",
    "\n",
    "print(f\"Probability that 8 or fewer  jurors are black is less than {empirical_prob/100:.10f} percent: {(empirical_prob * 1000000):.6f} / 1 million\")"
   ]
  },
  {
   "cell_type": "markdown",
   "metadata": {
    "id": "tjnSLFkDeMHV"
   },
   "source": [
    "# Q5\n",
    "\n",
    "## Q5a\n",
    "\n",
    "In the course textbook, read section [12.3](https://inferentialthinking.com/chapters/12/3/Deflategate.html).\n",
    "\n",
    "This section introduces the idea of comparing distinct groups as opposed to evaluating one group. It uses a type of hypothesis test based on permuting labels and evaluating the impact on the statistic. The idea is that if an assignment to one label or another is actually random, then reshuffling those labels shouldn't change anything.\n",
    "\n",
    "Rewrite the code from this section without the use of any specialized toolboxes. Compute the p value by obtaining the test statistic PDF through KDE and integrating appropriately.  \n",
    "\n",
    "Your code should recreate images as well as performing all operations. The images do not have to look indentical but must show the same information.\n",
    "\n",
    "\n",
    "Note: The content of this section is assigned due to its relevance to hypothesis testing and the impact of the application. It's inclusion is not an endorsement of any opinions that are offered by the authors of that section, and neither is this statement an indication of disagreement. Each student should come to their own conclusions regarding any opinion based claims in the reading."
   ]
  },
  {
   "cell_type": "code",
   "execution_count": 94,
   "metadata": {
    "colab": {
     "base_uri": "https://localhost:8080/"
    },
    "id": "cVqAIcgGeMHW",
    "outputId": "e208ad2e-ed91-40f2-e76b-fb166b951116"
   },
   "outputs": [
    {
     "name": "stdout",
     "output_type": "stream",
     "text": [
      "        Team  Blakeman  Prioleau\n",
      "0   Patriots     11.50     11.80\n",
      "1   Patriots     10.85     11.20\n",
      "2   Patriots     11.15     11.50\n",
      "3   Patriots     10.70     11.00\n",
      "4   Patriots     11.10     11.45\n",
      "5   Patriots     11.60     11.95\n",
      "6   Patriots     11.85     12.30\n",
      "7   Patriots     11.10     11.55\n",
      "8   Patriots     10.95     11.35\n",
      "9   Patriots     10.50     10.90\n",
      "10  Patriots     10.90     11.35\n",
      "11     Colts     12.70     12.35\n",
      "12     Colts     12.75     12.30\n",
      "13     Colts     12.50     12.95\n",
      "14     Colts     12.55     12.15\n"
     ]
    }
   ],
   "source": [
    "football = pd.read_csv(\"Deflategate.csv\")\n",
    "print(football)"
   ]
  },
  {
   "cell_type": "code",
   "execution_count": 95,
   "metadata": {
    "colab": {
     "base_uri": "https://localhost:8080/",
     "height": 206
    },
    "id": "Cg1Bw6rp1ZC3",
    "outputId": "45ba3c9d-6978-48ab-9c3d-a73a6338758b"
   },
   "outputs": [
    {
     "data": {
      "application/vnd.google.colaboratory.intrinsic+json": {
       "summary": "{\n  \"name\": \"football\",\n  \"rows\": 15,\n  \"fields\": [\n    {\n      \"column\": \"Team\",\n      \"properties\": {\n        \"dtype\": \"category\",\n        \"num_unique_values\": 2,\n        \"samples\": [\n          \"Colts\",\n          \"Patriots\"\n        ],\n        \"semantic_type\": \"\",\n        \"description\": \"\"\n      }\n    },\n    {\n      \"column\": \"Blakeman\",\n      \"properties\": {\n        \"dtype\": \"number\",\n        \"std\": 0.7747042446422162,\n        \"min\": 10.5,\n        \"max\": 12.75,\n        \"num_unique_values\": 14,\n        \"samples\": [\n          10.9,\n          12.75\n        ],\n        \"semantic_type\": \"\",\n        \"description\": \"\"\n      }\n    },\n    {\n      \"column\": \"Prioleau\",\n      \"properties\": {\n        \"dtype\": \"number\",\n        \"std\": 0.5797782827451,\n        \"min\": 10.9,\n        \"max\": 12.95,\n        \"num_unique_values\": 13,\n        \"samples\": [\n          12.95,\n          10.9\n        ],\n        \"semantic_type\": \"\",\n        \"description\": \"\"\n      }\n    },\n    {\n      \"column\": \"Combined\",\n      \"properties\": {\n        \"dtype\": \"number\",\n        \"std\": 0.664163455211212,\n        \"min\": 10.7,\n        \"max\": 12.725,\n        \"num_unique_values\": 14,\n        \"samples\": [\n          11.125,\n          12.525\n        ],\n        \"semantic_type\": \"\",\n        \"description\": \"\"\n      }\n    }\n  ]\n}",
       "type": "dataframe",
       "variable_name": "football"
      },
      "text/html": [
       "\n",
       "  <div id=\"df-4d589dd7-f47d-43cc-bc7e-1b7516f450ce\" class=\"colab-df-container\">\n",
       "    <div>\n",
       "<style scoped>\n",
       "    .dataframe tbody tr th:only-of-type {\n",
       "        vertical-align: middle;\n",
       "    }\n",
       "\n",
       "    .dataframe tbody tr th {\n",
       "        vertical-align: top;\n",
       "    }\n",
       "\n",
       "    .dataframe thead th {\n",
       "        text-align: right;\n",
       "    }\n",
       "</style>\n",
       "<table border=\"1\" class=\"dataframe\">\n",
       "  <thead>\n",
       "    <tr style=\"text-align: right;\">\n",
       "      <th></th>\n",
       "      <th>Team</th>\n",
       "      <th>Blakeman</th>\n",
       "      <th>Prioleau</th>\n",
       "      <th>Combined</th>\n",
       "    </tr>\n",
       "  </thead>\n",
       "  <tbody>\n",
       "    <tr>\n",
       "      <th>0</th>\n",
       "      <td>Patriots</td>\n",
       "      <td>11.50</td>\n",
       "      <td>11.80</td>\n",
       "      <td>11.650</td>\n",
       "    </tr>\n",
       "    <tr>\n",
       "      <th>1</th>\n",
       "      <td>Patriots</td>\n",
       "      <td>10.85</td>\n",
       "      <td>11.20</td>\n",
       "      <td>11.025</td>\n",
       "    </tr>\n",
       "    <tr>\n",
       "      <th>2</th>\n",
       "      <td>Patriots</td>\n",
       "      <td>11.15</td>\n",
       "      <td>11.50</td>\n",
       "      <td>11.325</td>\n",
       "    </tr>\n",
       "    <tr>\n",
       "      <th>3</th>\n",
       "      <td>Patriots</td>\n",
       "      <td>10.70</td>\n",
       "      <td>11.00</td>\n",
       "      <td>10.850</td>\n",
       "    </tr>\n",
       "    <tr>\n",
       "      <th>4</th>\n",
       "      <td>Patriots</td>\n",
       "      <td>11.10</td>\n",
       "      <td>11.45</td>\n",
       "      <td>11.275</td>\n",
       "    </tr>\n",
       "  </tbody>\n",
       "</table>\n",
       "</div>\n",
       "    <div class=\"colab-df-buttons\">\n",
       "\n",
       "  <div class=\"colab-df-container\">\n",
       "    <button class=\"colab-df-convert\" onclick=\"convertToInteractive('df-4d589dd7-f47d-43cc-bc7e-1b7516f450ce')\"\n",
       "            title=\"Convert this dataframe to an interactive table.\"\n",
       "            style=\"display:none;\">\n",
       "\n",
       "  <svg xmlns=\"http://www.w3.org/2000/svg\" height=\"24px\" viewBox=\"0 -960 960 960\">\n",
       "    <path d=\"M120-120v-720h720v720H120Zm60-500h600v-160H180v160Zm220 220h160v-160H400v160Zm0 220h160v-160H400v160ZM180-400h160v-160H180v160Zm440 0h160v-160H620v160ZM180-180h160v-160H180v160Zm440 0h160v-160H620v160Z\"/>\n",
       "  </svg>\n",
       "    </button>\n",
       "\n",
       "  <style>\n",
       "    .colab-df-container {\n",
       "      display:flex;\n",
       "      gap: 12px;\n",
       "    }\n",
       "\n",
       "    .colab-df-convert {\n",
       "      background-color: #E8F0FE;\n",
       "      border: none;\n",
       "      border-radius: 50%;\n",
       "      cursor: pointer;\n",
       "      display: none;\n",
       "      fill: #1967D2;\n",
       "      height: 32px;\n",
       "      padding: 0 0 0 0;\n",
       "      width: 32px;\n",
       "    }\n",
       "\n",
       "    .colab-df-convert:hover {\n",
       "      background-color: #E2EBFA;\n",
       "      box-shadow: 0px 1px 2px rgba(60, 64, 67, 0.3), 0px 1px 3px 1px rgba(60, 64, 67, 0.15);\n",
       "      fill: #174EA6;\n",
       "    }\n",
       "\n",
       "    .colab-df-buttons div {\n",
       "      margin-bottom: 4px;\n",
       "    }\n",
       "\n",
       "    [theme=dark] .colab-df-convert {\n",
       "      background-color: #3B4455;\n",
       "      fill: #D2E3FC;\n",
       "    }\n",
       "\n",
       "    [theme=dark] .colab-df-convert:hover {\n",
       "      background-color: #434B5C;\n",
       "      box-shadow: 0px 1px 3px 1px rgba(0, 0, 0, 0.15);\n",
       "      filter: drop-shadow(0px 1px 2px rgba(0, 0, 0, 0.3));\n",
       "      fill: #FFFFFF;\n",
       "    }\n",
       "  </style>\n",
       "\n",
       "    <script>\n",
       "      const buttonEl =\n",
       "        document.querySelector('#df-4d589dd7-f47d-43cc-bc7e-1b7516f450ce button.colab-df-convert');\n",
       "      buttonEl.style.display =\n",
       "        google.colab.kernel.accessAllowed ? 'block' : 'none';\n",
       "\n",
       "      async function convertToInteractive(key) {\n",
       "        const element = document.querySelector('#df-4d589dd7-f47d-43cc-bc7e-1b7516f450ce');\n",
       "        const dataTable =\n",
       "          await google.colab.kernel.invokeFunction('convertToInteractive',\n",
       "                                                    [key], {});\n",
       "        if (!dataTable) return;\n",
       "\n",
       "        const docLinkHtml = 'Like what you see? Visit the ' +\n",
       "          '<a target=\"_blank\" href=https://colab.research.google.com/notebooks/data_table.ipynb>data table notebook</a>'\n",
       "          + ' to learn more about interactive tables.';\n",
       "        element.innerHTML = '';\n",
       "        dataTable['output_type'] = 'display_data';\n",
       "        await google.colab.output.renderOutput(dataTable, element);\n",
       "        const docLink = document.createElement('div');\n",
       "        docLink.innerHTML = docLinkHtml;\n",
       "        element.appendChild(docLink);\n",
       "      }\n",
       "    </script>\n",
       "  </div>\n",
       "\n",
       "\n",
       "<div id=\"df-3cabcac9-bb67-4afc-8b10-c20eec00bbb8\">\n",
       "  <button class=\"colab-df-quickchart\" onclick=\"quickchart('df-3cabcac9-bb67-4afc-8b10-c20eec00bbb8')\"\n",
       "            title=\"Suggest charts\"\n",
       "            style=\"display:none;\">\n",
       "\n",
       "<svg xmlns=\"http://www.w3.org/2000/svg\" height=\"24px\"viewBox=\"0 0 24 24\"\n",
       "     width=\"24px\">\n",
       "    <g>\n",
       "        <path d=\"M19 3H5c-1.1 0-2 .9-2 2v14c0 1.1.9 2 2 2h14c1.1 0 2-.9 2-2V5c0-1.1-.9-2-2-2zM9 17H7v-7h2v7zm4 0h-2V7h2v10zm4 0h-2v-4h2v4z\"/>\n",
       "    </g>\n",
       "</svg>\n",
       "  </button>\n",
       "\n",
       "<style>\n",
       "  .colab-df-quickchart {\n",
       "      --bg-color: #E8F0FE;\n",
       "      --fill-color: #1967D2;\n",
       "      --hover-bg-color: #E2EBFA;\n",
       "      --hover-fill-color: #174EA6;\n",
       "      --disabled-fill-color: #AAA;\n",
       "      --disabled-bg-color: #DDD;\n",
       "  }\n",
       "\n",
       "  [theme=dark] .colab-df-quickchart {\n",
       "      --bg-color: #3B4455;\n",
       "      --fill-color: #D2E3FC;\n",
       "      --hover-bg-color: #434B5C;\n",
       "      --hover-fill-color: #FFFFFF;\n",
       "      --disabled-bg-color: #3B4455;\n",
       "      --disabled-fill-color: #666;\n",
       "  }\n",
       "\n",
       "  .colab-df-quickchart {\n",
       "    background-color: var(--bg-color);\n",
       "    border: none;\n",
       "    border-radius: 50%;\n",
       "    cursor: pointer;\n",
       "    display: none;\n",
       "    fill: var(--fill-color);\n",
       "    height: 32px;\n",
       "    padding: 0;\n",
       "    width: 32px;\n",
       "  }\n",
       "\n",
       "  .colab-df-quickchart:hover {\n",
       "    background-color: var(--hover-bg-color);\n",
       "    box-shadow: 0 1px 2px rgba(60, 64, 67, 0.3), 0 1px 3px 1px rgba(60, 64, 67, 0.15);\n",
       "    fill: var(--button-hover-fill-color);\n",
       "  }\n",
       "\n",
       "  .colab-df-quickchart-complete:disabled,\n",
       "  .colab-df-quickchart-complete:disabled:hover {\n",
       "    background-color: var(--disabled-bg-color);\n",
       "    fill: var(--disabled-fill-color);\n",
       "    box-shadow: none;\n",
       "  }\n",
       "\n",
       "  .colab-df-spinner {\n",
       "    border: 2px solid var(--fill-color);\n",
       "    border-color: transparent;\n",
       "    border-bottom-color: var(--fill-color);\n",
       "    animation:\n",
       "      spin 1s steps(1) infinite;\n",
       "  }\n",
       "\n",
       "  @keyframes spin {\n",
       "    0% {\n",
       "      border-color: transparent;\n",
       "      border-bottom-color: var(--fill-color);\n",
       "      border-left-color: var(--fill-color);\n",
       "    }\n",
       "    20% {\n",
       "      border-color: transparent;\n",
       "      border-left-color: var(--fill-color);\n",
       "      border-top-color: var(--fill-color);\n",
       "    }\n",
       "    30% {\n",
       "      border-color: transparent;\n",
       "      border-left-color: var(--fill-color);\n",
       "      border-top-color: var(--fill-color);\n",
       "      border-right-color: var(--fill-color);\n",
       "    }\n",
       "    40% {\n",
       "      border-color: transparent;\n",
       "      border-right-color: var(--fill-color);\n",
       "      border-top-color: var(--fill-color);\n",
       "    }\n",
       "    60% {\n",
       "      border-color: transparent;\n",
       "      border-right-color: var(--fill-color);\n",
       "    }\n",
       "    80% {\n",
       "      border-color: transparent;\n",
       "      border-right-color: var(--fill-color);\n",
       "      border-bottom-color: var(--fill-color);\n",
       "    }\n",
       "    90% {\n",
       "      border-color: transparent;\n",
       "      border-bottom-color: var(--fill-color);\n",
       "    }\n",
       "  }\n",
       "</style>\n",
       "\n",
       "  <script>\n",
       "    async function quickchart(key) {\n",
       "      const quickchartButtonEl =\n",
       "        document.querySelector('#' + key + ' button');\n",
       "      quickchartButtonEl.disabled = true;  // To prevent multiple clicks.\n",
       "      quickchartButtonEl.classList.add('colab-df-spinner');\n",
       "      try {\n",
       "        const charts = await google.colab.kernel.invokeFunction(\n",
       "            'suggestCharts', [key], {});\n",
       "      } catch (error) {\n",
       "        console.error('Error during call to suggestCharts:', error);\n",
       "      }\n",
       "      quickchartButtonEl.classList.remove('colab-df-spinner');\n",
       "      quickchartButtonEl.classList.add('colab-df-quickchart-complete');\n",
       "    }\n",
       "    (() => {\n",
       "      let quickchartButtonEl =\n",
       "        document.querySelector('#df-3cabcac9-bb67-4afc-8b10-c20eec00bbb8 button');\n",
       "      quickchartButtonEl.style.display =\n",
       "        google.colab.kernel.accessAllowed ? 'block' : 'none';\n",
       "    })();\n",
       "  </script>\n",
       "</div>\n",
       "\n",
       "    </div>\n",
       "  </div>\n"
      ],
      "text/plain": [
       "       Team  Blakeman  Prioleau  Combined\n",
       "0  Patriots     11.50     11.80    11.650\n",
       "1  Patriots     10.85     11.20    11.025\n",
       "2  Patriots     11.15     11.50    11.325\n",
       "3  Patriots     10.70     11.00    10.850\n",
       "4  Patriots     11.10     11.45    11.275"
      ]
     },
     "execution_count": 95,
     "metadata": {},
     "output_type": "execute_result"
    }
   ],
   "source": [
    "football['Combined'] = (football.iloc[:, 1] + football.iloc[:, 2])/2\n",
    "football.head()"
   ]
  },
  {
   "cell_type": "code",
   "execution_count": 96,
   "metadata": {
    "colab": {
     "base_uri": "https://localhost:8080/"
    },
    "id": "ngjnJEnrX8da",
    "outputId": "b93a4d76-a561-44a0-b72f-74e25c67e61c"
   },
   "outputs": [
    {
     "data": {
      "text/plain": [
       "array([12.5, 12.5, 12.5, 12.5, 12.5, 12.5, 12.5, 12.5, 12.5, 12.5, 12.5,\n",
       "       13. , 13. , 13. , 13. ])"
      ]
     },
     "execution_count": 96,
     "metadata": {},
     "output_type": "execute_result"
    }
   ],
   "source": [
    "np.ones(11)\n",
    "patriots_start = 12.5 * np.ones(11)\n",
    "colts_start = 13 * np.ones(4)\n",
    "start = np.append(patriots_start, colts_start)\n",
    "start"
   ]
  },
  {
   "cell_type": "code",
   "execution_count": 97,
   "metadata": {
    "colab": {
     "base_uri": "https://localhost:8080/",
     "height": 520
    },
    "id": "9WtyYBKrYP49",
    "outputId": "fed6516c-c1c3-45bc-c272-55750e46f1e8"
   },
   "outputs": [
    {
     "data": {
      "application/vnd.google.colaboratory.intrinsic+json": {
       "summary": "{\n  \"name\": \"football\",\n  \"rows\": 15,\n  \"fields\": [\n    {\n      \"column\": \"Team\",\n      \"properties\": {\n        \"dtype\": \"category\",\n        \"num_unique_values\": 2,\n        \"samples\": [\n          \"Colts\",\n          \"Patriots\"\n        ],\n        \"semantic_type\": \"\",\n        \"description\": \"\"\n      }\n    },\n    {\n      \"column\": \"Blakeman\",\n      \"properties\": {\n        \"dtype\": \"number\",\n        \"std\": 0.7747042446422162,\n        \"min\": 10.5,\n        \"max\": 12.75,\n        \"num_unique_values\": 14,\n        \"samples\": [\n          10.9,\n          12.75\n        ],\n        \"semantic_type\": \"\",\n        \"description\": \"\"\n      }\n    },\n    {\n      \"column\": \"Prioleau\",\n      \"properties\": {\n        \"dtype\": \"number\",\n        \"std\": 0.5797782827451,\n        \"min\": 10.9,\n        \"max\": 12.95,\n        \"num_unique_values\": 13,\n        \"samples\": [\n          12.95,\n          10.9\n        ],\n        \"semantic_type\": \"\",\n        \"description\": \"\"\n      }\n    },\n    {\n      \"column\": \"Combined\",\n      \"properties\": {\n        \"dtype\": \"number\",\n        \"std\": 0.664163455211212,\n        \"min\": 10.7,\n        \"max\": 12.725,\n        \"num_unique_values\": 14,\n        \"samples\": [\n          11.125,\n          12.525\n        ],\n        \"semantic_type\": \"\",\n        \"description\": \"\"\n      }\n    },\n    {\n      \"column\": \"Pressure Drop\",\n      \"properties\": {\n        \"dtype\": \"number\",\n        \"std\": 0.4848109597221033,\n        \"min\": 0.27500000000000036,\n        \"max\": 1.8000000000000007,\n        \"num_unique_values\": 14,\n        \"samples\": [\n          1.375,\n          0.47499999999999964\n        ],\n        \"semantic_type\": \"\",\n        \"description\": \"\"\n      }\n    }\n  ]\n}",
       "type": "dataframe",
       "variable_name": "football"
      },
      "text/html": [
       "\n",
       "  <div id=\"df-320b476d-253a-4d5c-982a-41b8071c19a2\" class=\"colab-df-container\">\n",
       "    <div>\n",
       "<style scoped>\n",
       "    .dataframe tbody tr th:only-of-type {\n",
       "        vertical-align: middle;\n",
       "    }\n",
       "\n",
       "    .dataframe tbody tr th {\n",
       "        vertical-align: top;\n",
       "    }\n",
       "\n",
       "    .dataframe thead th {\n",
       "        text-align: right;\n",
       "    }\n",
       "</style>\n",
       "<table border=\"1\" class=\"dataframe\">\n",
       "  <thead>\n",
       "    <tr style=\"text-align: right;\">\n",
       "      <th></th>\n",
       "      <th>Team</th>\n",
       "      <th>Blakeman</th>\n",
       "      <th>Prioleau</th>\n",
       "      <th>Combined</th>\n",
       "      <th>Pressure Drop</th>\n",
       "    </tr>\n",
       "  </thead>\n",
       "  <tbody>\n",
       "    <tr>\n",
       "      <th>0</th>\n",
       "      <td>Patriots</td>\n",
       "      <td>11.50</td>\n",
       "      <td>11.80</td>\n",
       "      <td>11.650</td>\n",
       "      <td>0.850</td>\n",
       "    </tr>\n",
       "    <tr>\n",
       "      <th>1</th>\n",
       "      <td>Patriots</td>\n",
       "      <td>10.85</td>\n",
       "      <td>11.20</td>\n",
       "      <td>11.025</td>\n",
       "      <td>1.475</td>\n",
       "    </tr>\n",
       "    <tr>\n",
       "      <th>2</th>\n",
       "      <td>Patriots</td>\n",
       "      <td>11.15</td>\n",
       "      <td>11.50</td>\n",
       "      <td>11.325</td>\n",
       "      <td>1.175</td>\n",
       "    </tr>\n",
       "    <tr>\n",
       "      <th>3</th>\n",
       "      <td>Patriots</td>\n",
       "      <td>10.70</td>\n",
       "      <td>11.00</td>\n",
       "      <td>10.850</td>\n",
       "      <td>1.650</td>\n",
       "    </tr>\n",
       "    <tr>\n",
       "      <th>4</th>\n",
       "      <td>Patriots</td>\n",
       "      <td>11.10</td>\n",
       "      <td>11.45</td>\n",
       "      <td>11.275</td>\n",
       "      <td>1.225</td>\n",
       "    </tr>\n",
       "    <tr>\n",
       "      <th>5</th>\n",
       "      <td>Patriots</td>\n",
       "      <td>11.60</td>\n",
       "      <td>11.95</td>\n",
       "      <td>11.775</td>\n",
       "      <td>0.725</td>\n",
       "    </tr>\n",
       "    <tr>\n",
       "      <th>6</th>\n",
       "      <td>Patriots</td>\n",
       "      <td>11.85</td>\n",
       "      <td>12.30</td>\n",
       "      <td>12.075</td>\n",
       "      <td>0.425</td>\n",
       "    </tr>\n",
       "    <tr>\n",
       "      <th>7</th>\n",
       "      <td>Patriots</td>\n",
       "      <td>11.10</td>\n",
       "      <td>11.55</td>\n",
       "      <td>11.325</td>\n",
       "      <td>1.175</td>\n",
       "    </tr>\n",
       "    <tr>\n",
       "      <th>8</th>\n",
       "      <td>Patriots</td>\n",
       "      <td>10.95</td>\n",
       "      <td>11.35</td>\n",
       "      <td>11.150</td>\n",
       "      <td>1.350</td>\n",
       "    </tr>\n",
       "    <tr>\n",
       "      <th>9</th>\n",
       "      <td>Patriots</td>\n",
       "      <td>10.50</td>\n",
       "      <td>10.90</td>\n",
       "      <td>10.700</td>\n",
       "      <td>1.800</td>\n",
       "    </tr>\n",
       "    <tr>\n",
       "      <th>10</th>\n",
       "      <td>Patriots</td>\n",
       "      <td>10.90</td>\n",
       "      <td>11.35</td>\n",
       "      <td>11.125</td>\n",
       "      <td>1.375</td>\n",
       "    </tr>\n",
       "    <tr>\n",
       "      <th>11</th>\n",
       "      <td>Colts</td>\n",
       "      <td>12.70</td>\n",
       "      <td>12.35</td>\n",
       "      <td>12.525</td>\n",
       "      <td>0.475</td>\n",
       "    </tr>\n",
       "    <tr>\n",
       "      <th>12</th>\n",
       "      <td>Colts</td>\n",
       "      <td>12.75</td>\n",
       "      <td>12.30</td>\n",
       "      <td>12.525</td>\n",
       "      <td>0.475</td>\n",
       "    </tr>\n",
       "    <tr>\n",
       "      <th>13</th>\n",
       "      <td>Colts</td>\n",
       "      <td>12.50</td>\n",
       "      <td>12.95</td>\n",
       "      <td>12.725</td>\n",
       "      <td>0.275</td>\n",
       "    </tr>\n",
       "    <tr>\n",
       "      <th>14</th>\n",
       "      <td>Colts</td>\n",
       "      <td>12.55</td>\n",
       "      <td>12.15</td>\n",
       "      <td>12.350</td>\n",
       "      <td>0.650</td>\n",
       "    </tr>\n",
       "  </tbody>\n",
       "</table>\n",
       "</div>\n",
       "    <div class=\"colab-df-buttons\">\n",
       "\n",
       "  <div class=\"colab-df-container\">\n",
       "    <button class=\"colab-df-convert\" onclick=\"convertToInteractive('df-320b476d-253a-4d5c-982a-41b8071c19a2')\"\n",
       "            title=\"Convert this dataframe to an interactive table.\"\n",
       "            style=\"display:none;\">\n",
       "\n",
       "  <svg xmlns=\"http://www.w3.org/2000/svg\" height=\"24px\" viewBox=\"0 -960 960 960\">\n",
       "    <path d=\"M120-120v-720h720v720H120Zm60-500h600v-160H180v160Zm220 220h160v-160H400v160Zm0 220h160v-160H400v160ZM180-400h160v-160H180v160Zm440 0h160v-160H620v160ZM180-180h160v-160H180v160Zm440 0h160v-160H620v160Z\"/>\n",
       "  </svg>\n",
       "    </button>\n",
       "\n",
       "  <style>\n",
       "    .colab-df-container {\n",
       "      display:flex;\n",
       "      gap: 12px;\n",
       "    }\n",
       "\n",
       "    .colab-df-convert {\n",
       "      background-color: #E8F0FE;\n",
       "      border: none;\n",
       "      border-radius: 50%;\n",
       "      cursor: pointer;\n",
       "      display: none;\n",
       "      fill: #1967D2;\n",
       "      height: 32px;\n",
       "      padding: 0 0 0 0;\n",
       "      width: 32px;\n",
       "    }\n",
       "\n",
       "    .colab-df-convert:hover {\n",
       "      background-color: #E2EBFA;\n",
       "      box-shadow: 0px 1px 2px rgba(60, 64, 67, 0.3), 0px 1px 3px 1px rgba(60, 64, 67, 0.15);\n",
       "      fill: #174EA6;\n",
       "    }\n",
       "\n",
       "    .colab-df-buttons div {\n",
       "      margin-bottom: 4px;\n",
       "    }\n",
       "\n",
       "    [theme=dark] .colab-df-convert {\n",
       "      background-color: #3B4455;\n",
       "      fill: #D2E3FC;\n",
       "    }\n",
       "\n",
       "    [theme=dark] .colab-df-convert:hover {\n",
       "      background-color: #434B5C;\n",
       "      box-shadow: 0px 1px 3px 1px rgba(0, 0, 0, 0.15);\n",
       "      filter: drop-shadow(0px 1px 2px rgba(0, 0, 0, 0.3));\n",
       "      fill: #FFFFFF;\n",
       "    }\n",
       "  </style>\n",
       "\n",
       "    <script>\n",
       "      const buttonEl =\n",
       "        document.querySelector('#df-320b476d-253a-4d5c-982a-41b8071c19a2 button.colab-df-convert');\n",
       "      buttonEl.style.display =\n",
       "        google.colab.kernel.accessAllowed ? 'block' : 'none';\n",
       "\n",
       "      async function convertToInteractive(key) {\n",
       "        const element = document.querySelector('#df-320b476d-253a-4d5c-982a-41b8071c19a2');\n",
       "        const dataTable =\n",
       "          await google.colab.kernel.invokeFunction('convertToInteractive',\n",
       "                                                    [key], {});\n",
       "        if (!dataTable) return;\n",
       "\n",
       "        const docLinkHtml = 'Like what you see? Visit the ' +\n",
       "          '<a target=\"_blank\" href=https://colab.research.google.com/notebooks/data_table.ipynb>data table notebook</a>'\n",
       "          + ' to learn more about interactive tables.';\n",
       "        element.innerHTML = '';\n",
       "        dataTable['output_type'] = 'display_data';\n",
       "        await google.colab.output.renderOutput(dataTable, element);\n",
       "        const docLink = document.createElement('div');\n",
       "        docLink.innerHTML = docLinkHtml;\n",
       "        element.appendChild(docLink);\n",
       "      }\n",
       "    </script>\n",
       "  </div>\n",
       "\n",
       "\n",
       "<div id=\"df-31ccea6b-2949-444e-a613-caa24506c761\">\n",
       "  <button class=\"colab-df-quickchart\" onclick=\"quickchart('df-31ccea6b-2949-444e-a613-caa24506c761')\"\n",
       "            title=\"Suggest charts\"\n",
       "            style=\"display:none;\">\n",
       "\n",
       "<svg xmlns=\"http://www.w3.org/2000/svg\" height=\"24px\"viewBox=\"0 0 24 24\"\n",
       "     width=\"24px\">\n",
       "    <g>\n",
       "        <path d=\"M19 3H5c-1.1 0-2 .9-2 2v14c0 1.1.9 2 2 2h14c1.1 0 2-.9 2-2V5c0-1.1-.9-2-2-2zM9 17H7v-7h2v7zm4 0h-2V7h2v10zm4 0h-2v-4h2v4z\"/>\n",
       "    </g>\n",
       "</svg>\n",
       "  </button>\n",
       "\n",
       "<style>\n",
       "  .colab-df-quickchart {\n",
       "      --bg-color: #E8F0FE;\n",
       "      --fill-color: #1967D2;\n",
       "      --hover-bg-color: #E2EBFA;\n",
       "      --hover-fill-color: #174EA6;\n",
       "      --disabled-fill-color: #AAA;\n",
       "      --disabled-bg-color: #DDD;\n",
       "  }\n",
       "\n",
       "  [theme=dark] .colab-df-quickchart {\n",
       "      --bg-color: #3B4455;\n",
       "      --fill-color: #D2E3FC;\n",
       "      --hover-bg-color: #434B5C;\n",
       "      --hover-fill-color: #FFFFFF;\n",
       "      --disabled-bg-color: #3B4455;\n",
       "      --disabled-fill-color: #666;\n",
       "  }\n",
       "\n",
       "  .colab-df-quickchart {\n",
       "    background-color: var(--bg-color);\n",
       "    border: none;\n",
       "    border-radius: 50%;\n",
       "    cursor: pointer;\n",
       "    display: none;\n",
       "    fill: var(--fill-color);\n",
       "    height: 32px;\n",
       "    padding: 0;\n",
       "    width: 32px;\n",
       "  }\n",
       "\n",
       "  .colab-df-quickchart:hover {\n",
       "    background-color: var(--hover-bg-color);\n",
       "    box-shadow: 0 1px 2px rgba(60, 64, 67, 0.3), 0 1px 3px 1px rgba(60, 64, 67, 0.15);\n",
       "    fill: var(--button-hover-fill-color);\n",
       "  }\n",
       "\n",
       "  .colab-df-quickchart-complete:disabled,\n",
       "  .colab-df-quickchart-complete:disabled:hover {\n",
       "    background-color: var(--disabled-bg-color);\n",
       "    fill: var(--disabled-fill-color);\n",
       "    box-shadow: none;\n",
       "  }\n",
       "\n",
       "  .colab-df-spinner {\n",
       "    border: 2px solid var(--fill-color);\n",
       "    border-color: transparent;\n",
       "    border-bottom-color: var(--fill-color);\n",
       "    animation:\n",
       "      spin 1s steps(1) infinite;\n",
       "  }\n",
       "\n",
       "  @keyframes spin {\n",
       "    0% {\n",
       "      border-color: transparent;\n",
       "      border-bottom-color: var(--fill-color);\n",
       "      border-left-color: var(--fill-color);\n",
       "    }\n",
       "    20% {\n",
       "      border-color: transparent;\n",
       "      border-left-color: var(--fill-color);\n",
       "      border-top-color: var(--fill-color);\n",
       "    }\n",
       "    30% {\n",
       "      border-color: transparent;\n",
       "      border-left-color: var(--fill-color);\n",
       "      border-top-color: var(--fill-color);\n",
       "      border-right-color: var(--fill-color);\n",
       "    }\n",
       "    40% {\n",
       "      border-color: transparent;\n",
       "      border-right-color: var(--fill-color);\n",
       "      border-top-color: var(--fill-color);\n",
       "    }\n",
       "    60% {\n",
       "      border-color: transparent;\n",
       "      border-right-color: var(--fill-color);\n",
       "    }\n",
       "    80% {\n",
       "      border-color: transparent;\n",
       "      border-right-color: var(--fill-color);\n",
       "      border-bottom-color: var(--fill-color);\n",
       "    }\n",
       "    90% {\n",
       "      border-color: transparent;\n",
       "      border-bottom-color: var(--fill-color);\n",
       "    }\n",
       "  }\n",
       "</style>\n",
       "\n",
       "  <script>\n",
       "    async function quickchart(key) {\n",
       "      const quickchartButtonEl =\n",
       "        document.querySelector('#' + key + ' button');\n",
       "      quickchartButtonEl.disabled = true;  // To prevent multiple clicks.\n",
       "      quickchartButtonEl.classList.add('colab-df-spinner');\n",
       "      try {\n",
       "        const charts = await google.colab.kernel.invokeFunction(\n",
       "            'suggestCharts', [key], {});\n",
       "      } catch (error) {\n",
       "        console.error('Error during call to suggestCharts:', error);\n",
       "      }\n",
       "      quickchartButtonEl.classList.remove('colab-df-spinner');\n",
       "      quickchartButtonEl.classList.add('colab-df-quickchart-complete');\n",
       "    }\n",
       "    (() => {\n",
       "      let quickchartButtonEl =\n",
       "        document.querySelector('#df-31ccea6b-2949-444e-a613-caa24506c761 button');\n",
       "      quickchartButtonEl.style.display =\n",
       "        google.colab.kernel.accessAllowed ? 'block' : 'none';\n",
       "    })();\n",
       "  </script>\n",
       "</div>\n",
       "\n",
       "  <div id=\"id_a355f8ee-9d1e-41a9-83b5-88b6fa642a8d\">\n",
       "    <style>\n",
       "      .colab-df-generate {\n",
       "        background-color: #E8F0FE;\n",
       "        border: none;\n",
       "        border-radius: 50%;\n",
       "        cursor: pointer;\n",
       "        display: none;\n",
       "        fill: #1967D2;\n",
       "        height: 32px;\n",
       "        padding: 0 0 0 0;\n",
       "        width: 32px;\n",
       "      }\n",
       "\n",
       "      .colab-df-generate:hover {\n",
       "        background-color: #E2EBFA;\n",
       "        box-shadow: 0px 1px 2px rgba(60, 64, 67, 0.3), 0px 1px 3px 1px rgba(60, 64, 67, 0.15);\n",
       "        fill: #174EA6;\n",
       "      }\n",
       "\n",
       "      [theme=dark] .colab-df-generate {\n",
       "        background-color: #3B4455;\n",
       "        fill: #D2E3FC;\n",
       "      }\n",
       "\n",
       "      [theme=dark] .colab-df-generate:hover {\n",
       "        background-color: #434B5C;\n",
       "        box-shadow: 0px 1px 3px 1px rgba(0, 0, 0, 0.15);\n",
       "        filter: drop-shadow(0px 1px 2px rgba(0, 0, 0, 0.3));\n",
       "        fill: #FFFFFF;\n",
       "      }\n",
       "    </style>\n",
       "    <button class=\"colab-df-generate\" onclick=\"generateWithVariable('football')\"\n",
       "            title=\"Generate code using this dataframe.\"\n",
       "            style=\"display:none;\">\n",
       "\n",
       "  <svg xmlns=\"http://www.w3.org/2000/svg\" height=\"24px\"viewBox=\"0 0 24 24\"\n",
       "       width=\"24px\">\n",
       "    <path d=\"M7,19H8.4L18.45,9,17,7.55,7,17.6ZM5,21V16.75L18.45,3.32a2,2,0,0,1,2.83,0l1.4,1.43a1.91,1.91,0,0,1,.58,1.4,1.91,1.91,0,0,1-.58,1.4L9.25,21ZM18.45,9,17,7.55Zm-12,3A5.31,5.31,0,0,0,4.9,8.1,5.31,5.31,0,0,0,1,6.5,5.31,5.31,0,0,0,4.9,4.9,5.31,5.31,0,0,0,6.5,1,5.31,5.31,0,0,0,8.1,4.9,5.31,5.31,0,0,0,12,6.5,5.46,5.46,0,0,0,6.5,12Z\"/>\n",
       "  </svg>\n",
       "    </button>\n",
       "    <script>\n",
       "      (() => {\n",
       "      const buttonEl =\n",
       "        document.querySelector('#id_a355f8ee-9d1e-41a9-83b5-88b6fa642a8d button.colab-df-generate');\n",
       "      buttonEl.style.display =\n",
       "        google.colab.kernel.accessAllowed ? 'block' : 'none';\n",
       "\n",
       "      buttonEl.onclick = () => {\n",
       "        google.colab.notebook.generateWithVariable('football');\n",
       "      }\n",
       "      })();\n",
       "    </script>\n",
       "  </div>\n",
       "\n",
       "    </div>\n",
       "  </div>\n"
      ],
      "text/plain": [
       "        Team  Blakeman  Prioleau  Combined  Pressure Drop\n",
       "0   Patriots     11.50     11.80    11.650          0.850\n",
       "1   Patriots     10.85     11.20    11.025          1.475\n",
       "2   Patriots     11.15     11.50    11.325          1.175\n",
       "3   Patriots     10.70     11.00    10.850          1.650\n",
       "4   Patriots     11.10     11.45    11.275          1.225\n",
       "5   Patriots     11.60     11.95    11.775          0.725\n",
       "6   Patriots     11.85     12.30    12.075          0.425\n",
       "7   Patriots     11.10     11.55    11.325          1.175\n",
       "8   Patriots     10.95     11.35    11.150          1.350\n",
       "9   Patriots     10.50     10.90    10.700          1.800\n",
       "10  Patriots     10.90     11.35    11.125          1.375\n",
       "11     Colts     12.70     12.35    12.525          0.475\n",
       "12     Colts     12.75     12.30    12.525          0.475\n",
       "13     Colts     12.50     12.95    12.725          0.275\n",
       "14     Colts     12.55     12.15    12.350          0.650"
      ]
     },
     "execution_count": 97,
     "metadata": {},
     "output_type": "execute_result"
    }
   ],
   "source": [
    "drop = start - football[\"Combined\"]\n",
    "football[\"Pressure Drop\"] = drop\n",
    "football"
   ]
  },
  {
   "cell_type": "code",
   "execution_count": 98,
   "metadata": {
    "colab": {
     "base_uri": "https://localhost:8080/",
     "height": 178
    },
    "id": "OPWXskD5YmmV",
    "outputId": "1bf40b5f-b2dd-4087-a100-07dfe04f5785"
   },
   "outputs": [
    {
     "data": {
      "text/html": [
       "<div>\n",
       "<style scoped>\n",
       "    .dataframe tbody tr th:only-of-type {\n",
       "        vertical-align: middle;\n",
       "    }\n",
       "\n",
       "    .dataframe tbody tr th {\n",
       "        vertical-align: top;\n",
       "    }\n",
       "\n",
       "    .dataframe thead th {\n",
       "        text-align: right;\n",
       "    }\n",
       "</style>\n",
       "<table border=\"1\" class=\"dataframe\">\n",
       "  <thead>\n",
       "    <tr style=\"text-align: right;\">\n",
       "      <th></th>\n",
       "      <th>Pressure Drop</th>\n",
       "    </tr>\n",
       "    <tr>\n",
       "      <th>Team</th>\n",
       "      <th></th>\n",
       "    </tr>\n",
       "  </thead>\n",
       "  <tbody>\n",
       "    <tr>\n",
       "      <th>Colts</th>\n",
       "      <td>0.468750</td>\n",
       "    </tr>\n",
       "    <tr>\n",
       "      <th>Patriots</th>\n",
       "      <td>1.202273</td>\n",
       "    </tr>\n",
       "  </tbody>\n",
       "</table>\n",
       "</div><br><label><b>dtype:</b> float64</label>"
      ],
      "text/plain": [
       "Team\n",
       "Colts       0.468750\n",
       "Patriots    1.202273\n",
       "Name: Pressure Drop, dtype: float64"
      ]
     },
     "execution_count": 98,
     "metadata": {},
     "output_type": "execute_result"
    }
   ],
   "source": [
    "football.groupby(\"Team\")[\"Pressure Drop\"].mean()"
   ]
  },
  {
   "cell_type": "markdown",
   "metadata": {
    "id": "zn1lzE0weMHW"
   },
   "source": [
    "### Q5b\n",
    "\n",
    "Conduct a two sample ttest across the samples for each team's game balls using `ttest_ind` which is part of the scipy stats package.\n",
    "\n",
    "What is the null hypothesis of this test? Does the result support the conclusion from the p value in above?\n",
    "\n",
    "Answer:"
   ]
  },
  {
   "cell_type": "markdown",
   "metadata": {
    "id": "TrtZDl5sblDU"
   },
   "source": [
    "Null Hypothesis: The 11 Patriot drops look like a random sample of 11/15 total pressure drops, when the remaining four are Colts' drops."
   ]
  },
  {
   "cell_type": "code",
   "execution_count": 99,
   "metadata": {
    "colab": {
     "base_uri": "https://localhost:8080/"
    },
    "id": "X8XfACu7eMHW",
    "outputId": "86860590-04ae-4126-b0b3-8d58c8945c42"
   },
   "outputs": [
    {
     "name": "stdout",
     "output_type": "stream",
     "text": [
      "0.733522727272728\n"
     ]
    }
   ],
   "source": [
    "def difference_of_means(df, group_label):\n",
    "  observed_means = df.groupby(group_label)[\"Pressure Drop\"].mean()\n",
    "  return observed_means[\"Patriots\"] - observed_means[\"Colts\"]\n",
    "\n",
    "print(difference_of_means(football, \"Team\"))"
   ]
  },
  {
   "cell_type": "code",
   "execution_count": 100,
   "metadata": {
    "colab": {
     "base_uri": "https://localhost:8080/",
     "height": 520
    },
    "id": "l1nY2bUvc6yA",
    "outputId": "efad3f97-3e1c-457e-c987-82a54bb24603"
   },
   "outputs": [
    {
     "data": {
      "application/vnd.google.colaboratory.intrinsic+json": {
       "summary": "{\n  \"name\": \"original_and_shuffled\",\n  \"rows\": 15,\n  \"fields\": [\n    {\n      \"column\": \"Team\",\n      \"properties\": {\n        \"dtype\": \"category\",\n        \"num_unique_values\": 2,\n        \"samples\": [\n          \"Colts\",\n          \"Patriots\"\n        ],\n        \"semantic_type\": \"\",\n        \"description\": \"\"\n      }\n    },\n    {\n      \"column\": \"Blakeman\",\n      \"properties\": {\n        \"dtype\": \"number\",\n        \"std\": 0.7747042446422162,\n        \"min\": 10.5,\n        \"max\": 12.75,\n        \"num_unique_values\": 14,\n        \"samples\": [\n          10.9,\n          12.75\n        ],\n        \"semantic_type\": \"\",\n        \"description\": \"\"\n      }\n    },\n    {\n      \"column\": \"Prioleau\",\n      \"properties\": {\n        \"dtype\": \"number\",\n        \"std\": 0.5797782827451,\n        \"min\": 10.9,\n        \"max\": 12.95,\n        \"num_unique_values\": 13,\n        \"samples\": [\n          12.95,\n          10.9\n        ],\n        \"semantic_type\": \"\",\n        \"description\": \"\"\n      }\n    },\n    {\n      \"column\": \"Combined\",\n      \"properties\": {\n        \"dtype\": \"number\",\n        \"std\": 0.664163455211212,\n        \"min\": 10.7,\n        \"max\": 12.725,\n        \"num_unique_values\": 14,\n        \"samples\": [\n          11.125,\n          12.525\n        ],\n        \"semantic_type\": \"\",\n        \"description\": \"\"\n      }\n    },\n    {\n      \"column\": \"Pressure Drop\",\n      \"properties\": {\n        \"dtype\": \"number\",\n        \"std\": 0.4848109597221033,\n        \"min\": 0.27500000000000036,\n        \"max\": 1.8000000000000007,\n        \"num_unique_values\": 14,\n        \"samples\": [\n          1.375,\n          0.47499999999999964\n        ],\n        \"semantic_type\": \"\",\n        \"description\": \"\"\n      }\n    },\n    {\n      \"column\": \"Shuffled Label\",\n      \"properties\": {\n        \"dtype\": \"category\",\n        \"num_unique_values\": 2,\n        \"samples\": [\n          \"Colts\",\n          \"Patriots\"\n        ],\n        \"semantic_type\": \"\",\n        \"description\": \"\"\n      }\n    }\n  ]\n}",
       "type": "dataframe",
       "variable_name": "original_and_shuffled"
      },
      "text/html": [
       "\n",
       "  <div id=\"df-e93b4628-b233-42ae-980d-b3c771fd1efb\" class=\"colab-df-container\">\n",
       "    <div>\n",
       "<style scoped>\n",
       "    .dataframe tbody tr th:only-of-type {\n",
       "        vertical-align: middle;\n",
       "    }\n",
       "\n",
       "    .dataframe tbody tr th {\n",
       "        vertical-align: top;\n",
       "    }\n",
       "\n",
       "    .dataframe thead th {\n",
       "        text-align: right;\n",
       "    }\n",
       "</style>\n",
       "<table border=\"1\" class=\"dataframe\">\n",
       "  <thead>\n",
       "    <tr style=\"text-align: right;\">\n",
       "      <th></th>\n",
       "      <th>Team</th>\n",
       "      <th>Blakeman</th>\n",
       "      <th>Prioleau</th>\n",
       "      <th>Combined</th>\n",
       "      <th>Pressure Drop</th>\n",
       "      <th>Shuffled Label</th>\n",
       "    </tr>\n",
       "  </thead>\n",
       "  <tbody>\n",
       "    <tr>\n",
       "      <th>0</th>\n",
       "      <td>Patriots</td>\n",
       "      <td>11.50</td>\n",
       "      <td>11.80</td>\n",
       "      <td>11.650</td>\n",
       "      <td>0.850</td>\n",
       "      <td>Patriots</td>\n",
       "    </tr>\n",
       "    <tr>\n",
       "      <th>1</th>\n",
       "      <td>Patriots</td>\n",
       "      <td>10.85</td>\n",
       "      <td>11.20</td>\n",
       "      <td>11.025</td>\n",
       "      <td>1.475</td>\n",
       "      <td>Colts</td>\n",
       "    </tr>\n",
       "    <tr>\n",
       "      <th>2</th>\n",
       "      <td>Patriots</td>\n",
       "      <td>11.15</td>\n",
       "      <td>11.50</td>\n",
       "      <td>11.325</td>\n",
       "      <td>1.175</td>\n",
       "      <td>Patriots</td>\n",
       "    </tr>\n",
       "    <tr>\n",
       "      <th>3</th>\n",
       "      <td>Patriots</td>\n",
       "      <td>10.70</td>\n",
       "      <td>11.00</td>\n",
       "      <td>10.850</td>\n",
       "      <td>1.650</td>\n",
       "      <td>Colts</td>\n",
       "    </tr>\n",
       "    <tr>\n",
       "      <th>4</th>\n",
       "      <td>Patriots</td>\n",
       "      <td>11.10</td>\n",
       "      <td>11.45</td>\n",
       "      <td>11.275</td>\n",
       "      <td>1.225</td>\n",
       "      <td>Patriots</td>\n",
       "    </tr>\n",
       "    <tr>\n",
       "      <th>5</th>\n",
       "      <td>Patriots</td>\n",
       "      <td>11.60</td>\n",
       "      <td>11.95</td>\n",
       "      <td>11.775</td>\n",
       "      <td>0.725</td>\n",
       "      <td>Patriots</td>\n",
       "    </tr>\n",
       "    <tr>\n",
       "      <th>6</th>\n",
       "      <td>Patriots</td>\n",
       "      <td>11.85</td>\n",
       "      <td>12.30</td>\n",
       "      <td>12.075</td>\n",
       "      <td>0.425</td>\n",
       "      <td>Patriots</td>\n",
       "    </tr>\n",
       "    <tr>\n",
       "      <th>7</th>\n",
       "      <td>Patriots</td>\n",
       "      <td>11.10</td>\n",
       "      <td>11.55</td>\n",
       "      <td>11.325</td>\n",
       "      <td>1.175</td>\n",
       "      <td>Patriots</td>\n",
       "    </tr>\n",
       "    <tr>\n",
       "      <th>8</th>\n",
       "      <td>Patriots</td>\n",
       "      <td>10.95</td>\n",
       "      <td>11.35</td>\n",
       "      <td>11.150</td>\n",
       "      <td>1.350</td>\n",
       "      <td>Colts</td>\n",
       "    </tr>\n",
       "    <tr>\n",
       "      <th>9</th>\n",
       "      <td>Patriots</td>\n",
       "      <td>10.50</td>\n",
       "      <td>10.90</td>\n",
       "      <td>10.700</td>\n",
       "      <td>1.800</td>\n",
       "      <td>Patriots</td>\n",
       "    </tr>\n",
       "    <tr>\n",
       "      <th>10</th>\n",
       "      <td>Patriots</td>\n",
       "      <td>10.90</td>\n",
       "      <td>11.35</td>\n",
       "      <td>11.125</td>\n",
       "      <td>1.375</td>\n",
       "      <td>Patriots</td>\n",
       "    </tr>\n",
       "    <tr>\n",
       "      <th>11</th>\n",
       "      <td>Colts</td>\n",
       "      <td>12.70</td>\n",
       "      <td>12.35</td>\n",
       "      <td>12.525</td>\n",
       "      <td>0.475</td>\n",
       "      <td>Patriots</td>\n",
       "    </tr>\n",
       "    <tr>\n",
       "      <th>12</th>\n",
       "      <td>Colts</td>\n",
       "      <td>12.75</td>\n",
       "      <td>12.30</td>\n",
       "      <td>12.525</td>\n",
       "      <td>0.475</td>\n",
       "      <td>Colts</td>\n",
       "    </tr>\n",
       "    <tr>\n",
       "      <th>13</th>\n",
       "      <td>Colts</td>\n",
       "      <td>12.50</td>\n",
       "      <td>12.95</td>\n",
       "      <td>12.725</td>\n",
       "      <td>0.275</td>\n",
       "      <td>Patriots</td>\n",
       "    </tr>\n",
       "    <tr>\n",
       "      <th>14</th>\n",
       "      <td>Colts</td>\n",
       "      <td>12.55</td>\n",
       "      <td>12.15</td>\n",
       "      <td>12.350</td>\n",
       "      <td>0.650</td>\n",
       "      <td>Patriots</td>\n",
       "    </tr>\n",
       "  </tbody>\n",
       "</table>\n",
       "</div>\n",
       "    <div class=\"colab-df-buttons\">\n",
       "\n",
       "  <div class=\"colab-df-container\">\n",
       "    <button class=\"colab-df-convert\" onclick=\"convertToInteractive('df-e93b4628-b233-42ae-980d-b3c771fd1efb')\"\n",
       "            title=\"Convert this dataframe to an interactive table.\"\n",
       "            style=\"display:none;\">\n",
       "\n",
       "  <svg xmlns=\"http://www.w3.org/2000/svg\" height=\"24px\" viewBox=\"0 -960 960 960\">\n",
       "    <path d=\"M120-120v-720h720v720H120Zm60-500h600v-160H180v160Zm220 220h160v-160H400v160Zm0 220h160v-160H400v160ZM180-400h160v-160H180v160Zm440 0h160v-160H620v160ZM180-180h160v-160H180v160Zm440 0h160v-160H620v160Z\"/>\n",
       "  </svg>\n",
       "    </button>\n",
       "\n",
       "  <style>\n",
       "    .colab-df-container {\n",
       "      display:flex;\n",
       "      gap: 12px;\n",
       "    }\n",
       "\n",
       "    .colab-df-convert {\n",
       "      background-color: #E8F0FE;\n",
       "      border: none;\n",
       "      border-radius: 50%;\n",
       "      cursor: pointer;\n",
       "      display: none;\n",
       "      fill: #1967D2;\n",
       "      height: 32px;\n",
       "      padding: 0 0 0 0;\n",
       "      width: 32px;\n",
       "    }\n",
       "\n",
       "    .colab-df-convert:hover {\n",
       "      background-color: #E2EBFA;\n",
       "      box-shadow: 0px 1px 2px rgba(60, 64, 67, 0.3), 0px 1px 3px 1px rgba(60, 64, 67, 0.15);\n",
       "      fill: #174EA6;\n",
       "    }\n",
       "\n",
       "    .colab-df-buttons div {\n",
       "      margin-bottom: 4px;\n",
       "    }\n",
       "\n",
       "    [theme=dark] .colab-df-convert {\n",
       "      background-color: #3B4455;\n",
       "      fill: #D2E3FC;\n",
       "    }\n",
       "\n",
       "    [theme=dark] .colab-df-convert:hover {\n",
       "      background-color: #434B5C;\n",
       "      box-shadow: 0px 1px 3px 1px rgba(0, 0, 0, 0.15);\n",
       "      filter: drop-shadow(0px 1px 2px rgba(0, 0, 0, 0.3));\n",
       "      fill: #FFFFFF;\n",
       "    }\n",
       "  </style>\n",
       "\n",
       "    <script>\n",
       "      const buttonEl =\n",
       "        document.querySelector('#df-e93b4628-b233-42ae-980d-b3c771fd1efb button.colab-df-convert');\n",
       "      buttonEl.style.display =\n",
       "        google.colab.kernel.accessAllowed ? 'block' : 'none';\n",
       "\n",
       "      async function convertToInteractive(key) {\n",
       "        const element = document.querySelector('#df-e93b4628-b233-42ae-980d-b3c771fd1efb');\n",
       "        const dataTable =\n",
       "          await google.colab.kernel.invokeFunction('convertToInteractive',\n",
       "                                                    [key], {});\n",
       "        if (!dataTable) return;\n",
       "\n",
       "        const docLinkHtml = 'Like what you see? Visit the ' +\n",
       "          '<a target=\"_blank\" href=https://colab.research.google.com/notebooks/data_table.ipynb>data table notebook</a>'\n",
       "          + ' to learn more about interactive tables.';\n",
       "        element.innerHTML = '';\n",
       "        dataTable['output_type'] = 'display_data';\n",
       "        await google.colab.output.renderOutput(dataTable, element);\n",
       "        const docLink = document.createElement('div');\n",
       "        docLink.innerHTML = docLinkHtml;\n",
       "        element.appendChild(docLink);\n",
       "      }\n",
       "    </script>\n",
       "  </div>\n",
       "\n",
       "\n",
       "<div id=\"df-1c6593c2-ed0e-4acd-b478-7ad439b38821\">\n",
       "  <button class=\"colab-df-quickchart\" onclick=\"quickchart('df-1c6593c2-ed0e-4acd-b478-7ad439b38821')\"\n",
       "            title=\"Suggest charts\"\n",
       "            style=\"display:none;\">\n",
       "\n",
       "<svg xmlns=\"http://www.w3.org/2000/svg\" height=\"24px\"viewBox=\"0 0 24 24\"\n",
       "     width=\"24px\">\n",
       "    <g>\n",
       "        <path d=\"M19 3H5c-1.1 0-2 .9-2 2v14c0 1.1.9 2 2 2h14c1.1 0 2-.9 2-2V5c0-1.1-.9-2-2-2zM9 17H7v-7h2v7zm4 0h-2V7h2v10zm4 0h-2v-4h2v4z\"/>\n",
       "    </g>\n",
       "</svg>\n",
       "  </button>\n",
       "\n",
       "<style>\n",
       "  .colab-df-quickchart {\n",
       "      --bg-color: #E8F0FE;\n",
       "      --fill-color: #1967D2;\n",
       "      --hover-bg-color: #E2EBFA;\n",
       "      --hover-fill-color: #174EA6;\n",
       "      --disabled-fill-color: #AAA;\n",
       "      --disabled-bg-color: #DDD;\n",
       "  }\n",
       "\n",
       "  [theme=dark] .colab-df-quickchart {\n",
       "      --bg-color: #3B4455;\n",
       "      --fill-color: #D2E3FC;\n",
       "      --hover-bg-color: #434B5C;\n",
       "      --hover-fill-color: #FFFFFF;\n",
       "      --disabled-bg-color: #3B4455;\n",
       "      --disabled-fill-color: #666;\n",
       "  }\n",
       "\n",
       "  .colab-df-quickchart {\n",
       "    background-color: var(--bg-color);\n",
       "    border: none;\n",
       "    border-radius: 50%;\n",
       "    cursor: pointer;\n",
       "    display: none;\n",
       "    fill: var(--fill-color);\n",
       "    height: 32px;\n",
       "    padding: 0;\n",
       "    width: 32px;\n",
       "  }\n",
       "\n",
       "  .colab-df-quickchart:hover {\n",
       "    background-color: var(--hover-bg-color);\n",
       "    box-shadow: 0 1px 2px rgba(60, 64, 67, 0.3), 0 1px 3px 1px rgba(60, 64, 67, 0.15);\n",
       "    fill: var(--button-hover-fill-color);\n",
       "  }\n",
       "\n",
       "  .colab-df-quickchart-complete:disabled,\n",
       "  .colab-df-quickchart-complete:disabled:hover {\n",
       "    background-color: var(--disabled-bg-color);\n",
       "    fill: var(--disabled-fill-color);\n",
       "    box-shadow: none;\n",
       "  }\n",
       "\n",
       "  .colab-df-spinner {\n",
       "    border: 2px solid var(--fill-color);\n",
       "    border-color: transparent;\n",
       "    border-bottom-color: var(--fill-color);\n",
       "    animation:\n",
       "      spin 1s steps(1) infinite;\n",
       "  }\n",
       "\n",
       "  @keyframes spin {\n",
       "    0% {\n",
       "      border-color: transparent;\n",
       "      border-bottom-color: var(--fill-color);\n",
       "      border-left-color: var(--fill-color);\n",
       "    }\n",
       "    20% {\n",
       "      border-color: transparent;\n",
       "      border-left-color: var(--fill-color);\n",
       "      border-top-color: var(--fill-color);\n",
       "    }\n",
       "    30% {\n",
       "      border-color: transparent;\n",
       "      border-left-color: var(--fill-color);\n",
       "      border-top-color: var(--fill-color);\n",
       "      border-right-color: var(--fill-color);\n",
       "    }\n",
       "    40% {\n",
       "      border-color: transparent;\n",
       "      border-right-color: var(--fill-color);\n",
       "      border-top-color: var(--fill-color);\n",
       "    }\n",
       "    60% {\n",
       "      border-color: transparent;\n",
       "      border-right-color: var(--fill-color);\n",
       "    }\n",
       "    80% {\n",
       "      border-color: transparent;\n",
       "      border-right-color: var(--fill-color);\n",
       "      border-bottom-color: var(--fill-color);\n",
       "    }\n",
       "    90% {\n",
       "      border-color: transparent;\n",
       "      border-bottom-color: var(--fill-color);\n",
       "    }\n",
       "  }\n",
       "</style>\n",
       "\n",
       "  <script>\n",
       "    async function quickchart(key) {\n",
       "      const quickchartButtonEl =\n",
       "        document.querySelector('#' + key + ' button');\n",
       "      quickchartButtonEl.disabled = true;  // To prevent multiple clicks.\n",
       "      quickchartButtonEl.classList.add('colab-df-spinner');\n",
       "      try {\n",
       "        const charts = await google.colab.kernel.invokeFunction(\n",
       "            'suggestCharts', [key], {});\n",
       "      } catch (error) {\n",
       "        console.error('Error during call to suggestCharts:', error);\n",
       "      }\n",
       "      quickchartButtonEl.classList.remove('colab-df-spinner');\n",
       "      quickchartButtonEl.classList.add('colab-df-quickchart-complete');\n",
       "    }\n",
       "    (() => {\n",
       "      let quickchartButtonEl =\n",
       "        document.querySelector('#df-1c6593c2-ed0e-4acd-b478-7ad439b38821 button');\n",
       "      quickchartButtonEl.style.display =\n",
       "        google.colab.kernel.accessAllowed ? 'block' : 'none';\n",
       "    })();\n",
       "  </script>\n",
       "</div>\n",
       "\n",
       "  <div id=\"id_1c767ee2-ca00-4469-8d47-3c8b13d50a2e\">\n",
       "    <style>\n",
       "      .colab-df-generate {\n",
       "        background-color: #E8F0FE;\n",
       "        border: none;\n",
       "        border-radius: 50%;\n",
       "        cursor: pointer;\n",
       "        display: none;\n",
       "        fill: #1967D2;\n",
       "        height: 32px;\n",
       "        padding: 0 0 0 0;\n",
       "        width: 32px;\n",
       "      }\n",
       "\n",
       "      .colab-df-generate:hover {\n",
       "        background-color: #E2EBFA;\n",
       "        box-shadow: 0px 1px 2px rgba(60, 64, 67, 0.3), 0px 1px 3px 1px rgba(60, 64, 67, 0.15);\n",
       "        fill: #174EA6;\n",
       "      }\n",
       "\n",
       "      [theme=dark] .colab-df-generate {\n",
       "        background-color: #3B4455;\n",
       "        fill: #D2E3FC;\n",
       "      }\n",
       "\n",
       "      [theme=dark] .colab-df-generate:hover {\n",
       "        background-color: #434B5C;\n",
       "        box-shadow: 0px 1px 3px 1px rgba(0, 0, 0, 0.15);\n",
       "        filter: drop-shadow(0px 1px 2px rgba(0, 0, 0, 0.3));\n",
       "        fill: #FFFFFF;\n",
       "      }\n",
       "    </style>\n",
       "    <button class=\"colab-df-generate\" onclick=\"generateWithVariable('original_and_shuffled')\"\n",
       "            title=\"Generate code using this dataframe.\"\n",
       "            style=\"display:none;\">\n",
       "\n",
       "  <svg xmlns=\"http://www.w3.org/2000/svg\" height=\"24px\"viewBox=\"0 0 24 24\"\n",
       "       width=\"24px\">\n",
       "    <path d=\"M7,19H8.4L18.45,9,17,7.55,7,17.6ZM5,21V16.75L18.45,3.32a2,2,0,0,1,2.83,0l1.4,1.43a1.91,1.91,0,0,1,.58,1.4,1.91,1.91,0,0,1-.58,1.4L9.25,21ZM18.45,9,17,7.55Zm-12,3A5.31,5.31,0,0,0,4.9,8.1,5.31,5.31,0,0,0,1,6.5,5.31,5.31,0,0,0,4.9,4.9,5.31,5.31,0,0,0,6.5,1,5.31,5.31,0,0,0,8.1,4.9,5.31,5.31,0,0,0,12,6.5,5.46,5.46,0,0,0,6.5,12Z\"/>\n",
       "  </svg>\n",
       "    </button>\n",
       "    <script>\n",
       "      (() => {\n",
       "      const buttonEl =\n",
       "        document.querySelector('#id_1c767ee2-ca00-4469-8d47-3c8b13d50a2e button.colab-df-generate');\n",
       "      buttonEl.style.display =\n",
       "        google.colab.kernel.accessAllowed ? 'block' : 'none';\n",
       "\n",
       "      buttonEl.onclick = () => {\n",
       "        google.colab.notebook.generateWithVariable('original_and_shuffled');\n",
       "      }\n",
       "      })();\n",
       "    </script>\n",
       "  </div>\n",
       "\n",
       "    </div>\n",
       "  </div>\n"
      ],
      "text/plain": [
       "        Team  Blakeman  Prioleau  Combined  Pressure Drop Shuffled Label\n",
       "0   Patriots     11.50     11.80    11.650          0.850       Patriots\n",
       "1   Patriots     10.85     11.20    11.025          1.475          Colts\n",
       "2   Patriots     11.15     11.50    11.325          1.175       Patriots\n",
       "3   Patriots     10.70     11.00    10.850          1.650          Colts\n",
       "4   Patriots     11.10     11.45    11.275          1.225       Patriots\n",
       "5   Patriots     11.60     11.95    11.775          0.725       Patriots\n",
       "6   Patriots     11.85     12.30    12.075          0.425       Patriots\n",
       "7   Patriots     11.10     11.55    11.325          1.175       Patriots\n",
       "8   Patriots     10.95     11.35    11.150          1.350          Colts\n",
       "9   Patriots     10.50     10.90    10.700          1.800       Patriots\n",
       "10  Patriots     10.90     11.35    11.125          1.375       Patriots\n",
       "11     Colts     12.70     12.35    12.525          0.475       Patriots\n",
       "12     Colts     12.75     12.30    12.525          0.475          Colts\n",
       "13     Colts     12.50     12.95    12.725          0.275       Patriots\n",
       "14     Colts     12.55     12.15    12.350          0.650       Patriots"
      ]
     },
     "execution_count": 100,
     "metadata": {},
     "output_type": "execute_result"
    }
   ],
   "source": [
    "shuffled_labels = football[\"Team\"].sample(frac=1, replace=False, random_state=42).reset_index(drop=True)\n",
    "original_and_shuffled = football.copy()\n",
    "original_and_shuffled[\"Shuffled Label\"] = shuffled_labels\n",
    "original_and_shuffled"
   ]
  },
  {
   "cell_type": "code",
   "execution_count": 101,
   "metadata": {
    "colab": {
     "base_uri": "https://localhost:8080/"
    },
    "id": "0HHN1ZbDgknp",
    "outputId": "7768bfc8-4805-4fcc-9a56-f54d7274162e"
   },
   "outputs": [
    {
     "name": "stdout",
     "output_type": "stream",
     "text": [
      "-0.3147727272727274\n"
     ]
    }
   ],
   "source": [
    "print(difference_of_means(original_and_shuffled, \"Shuffled Label\"))"
   ]
  },
  {
   "cell_type": "code",
   "execution_count": 102,
   "metadata": {
    "colab": {
     "base_uri": "https://localhost:8080/"
    },
    "id": "icOFSC4Mg8Nm",
    "outputId": "f2e69fd4-30bd-4419-f0fd-bf9ea18cf60a"
   },
   "outputs": [
    {
     "name": "stdout",
     "output_type": "stream",
     "text": [
      "0.733522727272728\n"
     ]
    }
   ],
   "source": [
    "print(difference_of_means(original_and_shuffled, \"Team\"))"
   ]
  },
  {
   "cell_type": "code",
   "execution_count": 103,
   "metadata": {
    "id": "2qKhVPc1iRGv"
   },
   "outputs": [],
   "source": [
    "def one_simulated_difference(i):\n",
    "  shuffled_labels = football[\"Team\"].sample(frac=1, replace=False, random_state=i).reset_index(drop=True)\n",
    "  shuffled_table = football[[\"Pressure Drop\"]].copy()\n",
    "  shuffled_table[\"Shuffled Label\"] = shuffled_labels\n",
    "  return difference_of_means(shuffled_table, \"Shuffled Label\")\n",
    "\n",
    "\n",
    "repetitions = 10000\n",
    "differences = np.zeros(repetitions)\n",
    "for i in np.arange(repetitions):\n",
    "  differences[i] = one_simulated_difference(i)"
   ]
  },
  {
   "cell_type": "code",
   "execution_count": 104,
   "metadata": {
    "colab": {
     "base_uri": "https://localhost:8080/",
     "height": 508
    },
    "id": "Au0MeN0RC8nx",
    "outputId": "e8941161-4a48-4a74-ec75-661510416cf8"
   },
   "outputs": [
    {
     "data": {
      "image/png": "[encoded data removed]",
      "text/plain": [
       "<Figure size 640x480 with 1 Axes>"
      ]
     },
     "metadata": {},
     "output_type": "display_data"
    }
   ],
   "source": [
    "observed_difference = difference_of_means(football, \"Team\")\n",
    "hist, bin_edges = np.histogram(differences)\n",
    "plt.hist(differences, bins=np.arange(min(differences), max(differences), 0.125), density=True)\n",
    "plt.scatter(observed_difference, hist[0]/sum(hist), color=\"red\", s=30, label=\"Observed Difference\")\n",
    "plt.title(\"Prediction Under the Null Hypothesis\")\n",
    "plt.xlabel(\"Difference in Means\")\n",
    "plt.ylabel(\"Frequency\")\n",
    "plt.legend()\n",
    "plt.show()"
   ]
  },
  {
   "cell_type": "code",
   "execution_count": 105,
   "metadata": {
    "colab": {
     "base_uri": "https://localhost:8080/"
    },
    "id": "eOjUInI7GV3r",
    "outputId": "756632d1-825e-4a31-bcb3-bea4d7486b8a"
   },
   "outputs": [
    {
     "data": {
      "text/plain": [
       "0.0027"
      ]
     },
     "execution_count": 105,
     "metadata": {},
     "output_type": "execute_result"
    }
   ],
   "source": [
    "empirical_prob = np.count_nonzero(differences >= observed_difference)/repetitions\n",
    "empirical_prob"
   ]
  }
 ],
 "metadata": {
  "colab": {
   "include_colab_link": true,
   "provenance": []
  },
  "kernelspec": {
   "display_name": "Python 3 (ipykernel)",
   "language": "python",
   "name": "python3"
  },
  "language_info": {
   "codemirror_mode": {
    "name": "ipython",
    "version": 3
   },
   "file_extension": ".py",
   "mimetype": "text/x-python",
   "name": "python",
   "nbconvert_exporter": "python",
   "pygments_lexer": "ipython3",
   "version": "3.12.0"
  }
 },
 "nbformat": 4,
 "nbformat_minor": 4
}
